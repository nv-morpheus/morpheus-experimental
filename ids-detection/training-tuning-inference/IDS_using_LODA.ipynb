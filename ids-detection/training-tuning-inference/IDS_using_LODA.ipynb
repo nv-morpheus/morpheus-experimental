{
 "cells": [
  {
   "cell_type": "markdown",
   "metadata": {},
   "source": [
    "# Network Intrusion Detection in Netflow using RAPIDS LODA"
   ]
  },
  {
   "cell_type": "markdown",
   "metadata": {},
   "source": [
    "## Introduction \n",
    "In this workflow, we show how to use `Loda`(Lightweight Online Detector of Anomalies)[2] anomaly detector for intrusion detection usecase. Loda is trained to identify attacks in the form of bots in Netflow data. We use [cic_ids2017](https://www.unb.ca/cic/datasets/ids-2017.html)[1] benchmark dataset for the evaluation. For training, we use the activities collected from Monday that don't have any attacks on it. For evaluation, we use Friday flow data that is a mix of flows of benign and bot attacks.\n",
    "\n",
    "The Loda algorithm is one of the good performing generic anomaly detection algorithms. Loda detects anomalies in a dataset by computing the likelihood of data points using an ensemble of one-dimensional histograms. These histograms serve as density estimators by approximating the joint probability of the data using sparse random projections. For convenience, a negative log-likelihood (NLL) is used as scoring criteria, where a large NLL value indicates an instance to be anomalous. This is because anomalies are expected to be points with smaller likelihood under the fitted probability model (the histograms in this case). Then, the NLL scores of Loda serves as anomaly scores to detect for activies that tends to look bots from the benign activies. \n"
   ]
  },
  {
   "cell_type": "code",
   "execution_count": 2,
   "metadata": {},
   "outputs": [],
   "source": [
    "#%config IPCompleter.use_jedi = False\n",
    "import pandas as pd \n",
    "import cupy as cp\n",
    "import numpy as np\n",
    "import cudf\n",
    "import cuml\n",
    "import matplotlib.pylab as plt \n",
    "import os \n",
    "from cuml.decomposition import PCA as cu_pca\n",
    "from itertools import permutations\n",
    "from loda import Loda\n",
    "from util import metrics, average_precision_score, plot_pr, plot_roc\n",
    "%matplotlib inline\n",
    "cp.random.seed(101)"
   ]
  },
  {
   "cell_type": "markdown",
   "metadata": {},
   "source": [
    "#### Load and preprocess dataset\n",
    "\n",
    "Download `GeneratedLabelledFlows.zip` from the above link and extract all files in a selected path."
   ]
  },
  {
   "cell_type": "code",
   "execution_count": 2,
   "metadata": {},
   "outputs": [
    {
     "name": "stdout",
     "output_type": "stream",
     "text": [
      "5ca3f8f69e3514950681615824149973  GeneratedLabelledFlows.zip\n"
     ]
    }
   ],
   "source": [
    "!md5sum GeneratedLabelledFlows.zip"
   ]
  },
  {
   "cell_type": "code",
   "execution_count": 12,
   "metadata": {},
   "outputs": [],
   "source": [
    "dir_path = \"./generated_flow_data/\" #\"put/path/extracted/cic_ids2017/\"\n",
    "datasets = os.listdir(dir_path)"
   ]
  },
  {
   "cell_type": "code",
   "execution_count": 4,
   "metadata": {},
   "outputs": [],
   "source": [
    "def load_dataset(dir_path):\n",
    "    df = cudf.read_csv(dir_path) \n",
    "    df.columns = [ '_'.join(col.split()) for col in df.columns.str.strip()]\n",
    "    return df\n",
    "def drop_nonunique_features(df, nunique=1):\n",
    "    # drop features with less than 2 unique variables. \n",
    "    var_col = []\n",
    "    for i in df.columns:\n",
    "        if df[i].value_counts().nunique() <= nunique:\n",
    "            var_col.append(i)\n",
    "    return df.drop(var_col, axis=1, inplace=False)\n",
    "def remove_naninf(df):\n",
    "    # Remove nan, inf rows. \n",
    "    temp_df = df.select_dtypes('float64')\n",
    "    na_rows = temp_df.isin([cp.inf, cp.nan, -cp.inf]).any(1)\n",
    "    return df[~na_rows]\n",
    "    "
   ]
  },
  {
   "cell_type": "markdown",
   "metadata": {},
   "source": [
    "We use the `Monday-WorkingHours` dataset for fitting a `Loda` model, this flow dataset doesn't have any attacks. For evaluation, we test the trained `Loda` model on activities that contain both benign and attacks. We use `Friday-WorkingHours-Morning` that has an attack in the form of bots."
   ]
  },
  {
   "cell_type": "code",
   "execution_count": 5,
   "metadata": {},
   "outputs": [],
   "source": [
    "# Training days\n",
    "mon_df = load_dataset(os.path.join(dir_path, \"Monday-WorkingHours.pcap_ISCX.csv\")).pipe(drop_nonunique_features).pipe(remove_naninf).to_pandas()\n",
    "\n",
    "# Testing days \n",
    "frid_df = load_dataset(os.path.join(dir_path, \"Friday-WorkingHours-Morning.pcap_ISCX.csv\")).pipe(drop_nonunique_features).pipe(remove_naninf).to_pandas()\n"
   ]
  },
  {
   "cell_type": "code",
   "execution_count": 7,
   "metadata": {},
   "outputs": [
    {
     "name": "stdout",
     "output_type": "stream",
     "text": [
      "Proportion of Benign to Bots class in the evaluation dataset\n",
      " BENIGN    0.989754\n",
      "Bot       0.010246\n",
      "Name: Label, dtype: float64\n"
     ]
    }
   ],
   "source": [
    "# Proportion of anomalies in test data \n",
    "print(f\"Proportion of Benign to Bots class in the evaluation dataset\\n {frid_df.Label.value_counts() / frid_df.shape[0]}\")"
   ]
  },
  {
   "cell_type": "code",
   "execution_count": 8,
   "metadata": {},
   "outputs": [
    {
     "data": {
      "text/html": [
       "<div>\n",
       "<style scoped>\n",
       "    .dataframe tbody tr th:only-of-type {\n",
       "        vertical-align: middle;\n",
       "    }\n",
       "\n",
       "    .dataframe tbody tr th {\n",
       "        vertical-align: top;\n",
       "    }\n",
       "\n",
       "    .dataframe thead th {\n",
       "        text-align: right;\n",
       "    }\n",
       "</style>\n",
       "<table border=\"1\" class=\"dataframe\">\n",
       "  <thead>\n",
       "    <tr style=\"text-align: right;\">\n",
       "      <th></th>\n",
       "      <th>Flow_ID</th>\n",
       "      <th>Source_IP</th>\n",
       "      <th>Source_Port</th>\n",
       "      <th>Destination_IP</th>\n",
       "      <th>Destination_Port</th>\n",
       "      <th>Protocol</th>\n",
       "      <th>Timestamp</th>\n",
       "      <th>Flow_Duration</th>\n",
       "      <th>Total_Fwd_Packets</th>\n",
       "      <th>Total_Backward_Packets</th>\n",
       "      <th>...</th>\n",
       "      <th>act_data_pkt_fwd</th>\n",
       "      <th>min_seg_size_forward</th>\n",
       "      <th>Active_Mean</th>\n",
       "      <th>Active_Std</th>\n",
       "      <th>Active_Max</th>\n",
       "      <th>Active_Min</th>\n",
       "      <th>Idle_Mean</th>\n",
       "      <th>Idle_Std</th>\n",
       "      <th>Idle_Max</th>\n",
       "      <th>Idle_Min</th>\n",
       "    </tr>\n",
       "  </thead>\n",
       "  <tbody>\n",
       "    <tr>\n",
       "      <th>0</th>\n",
       "      <td>192.168.10.5-8.254.250.126-49188-80-6</td>\n",
       "      <td>8.254.250.126</td>\n",
       "      <td>80</td>\n",
       "      <td>192.168.10.5</td>\n",
       "      <td>49188</td>\n",
       "      <td>6</td>\n",
       "      <td>03/07/2017 08:55:58</td>\n",
       "      <td>4</td>\n",
       "      <td>2</td>\n",
       "      <td>0</td>\n",
       "      <td>...</td>\n",
       "      <td>1</td>\n",
       "      <td>20</td>\n",
       "      <td>0.0</td>\n",
       "      <td>0.0</td>\n",
       "      <td>0.0</td>\n",
       "      <td>0.0</td>\n",
       "      <td>0.0</td>\n",
       "      <td>0.0</td>\n",
       "      <td>0.0</td>\n",
       "      <td>0.0</td>\n",
       "    </tr>\n",
       "    <tr>\n",
       "      <th>1</th>\n",
       "      <td>192.168.10.5-8.254.250.126-49188-80-6</td>\n",
       "      <td>8.254.250.126</td>\n",
       "      <td>80</td>\n",
       "      <td>192.168.10.5</td>\n",
       "      <td>49188</td>\n",
       "      <td>6</td>\n",
       "      <td>03/07/2017 08:55:58</td>\n",
       "      <td>1</td>\n",
       "      <td>2</td>\n",
       "      <td>0</td>\n",
       "      <td>...</td>\n",
       "      <td>1</td>\n",
       "      <td>20</td>\n",
       "      <td>0.0</td>\n",
       "      <td>0.0</td>\n",
       "      <td>0.0</td>\n",
       "      <td>0.0</td>\n",
       "      <td>0.0</td>\n",
       "      <td>0.0</td>\n",
       "      <td>0.0</td>\n",
       "      <td>0.0</td>\n",
       "    </tr>\n",
       "    <tr>\n",
       "      <th>2</th>\n",
       "      <td>192.168.10.5-8.254.250.126-49188-80-6</td>\n",
       "      <td>8.254.250.126</td>\n",
       "      <td>80</td>\n",
       "      <td>192.168.10.5</td>\n",
       "      <td>49188</td>\n",
       "      <td>6</td>\n",
       "      <td>03/07/2017 08:55:58</td>\n",
       "      <td>1</td>\n",
       "      <td>2</td>\n",
       "      <td>0</td>\n",
       "      <td>...</td>\n",
       "      <td>1</td>\n",
       "      <td>20</td>\n",
       "      <td>0.0</td>\n",
       "      <td>0.0</td>\n",
       "      <td>0.0</td>\n",
       "      <td>0.0</td>\n",
       "      <td>0.0</td>\n",
       "      <td>0.0</td>\n",
       "      <td>0.0</td>\n",
       "      <td>0.0</td>\n",
       "    </tr>\n",
       "    <tr>\n",
       "      <th>3</th>\n",
       "      <td>192.168.10.5-8.254.250.126-49188-80-6</td>\n",
       "      <td>8.254.250.126</td>\n",
       "      <td>80</td>\n",
       "      <td>192.168.10.5</td>\n",
       "      <td>49188</td>\n",
       "      <td>6</td>\n",
       "      <td>03/07/2017 08:55:58</td>\n",
       "      <td>1</td>\n",
       "      <td>2</td>\n",
       "      <td>0</td>\n",
       "      <td>...</td>\n",
       "      <td>1</td>\n",
       "      <td>20</td>\n",
       "      <td>0.0</td>\n",
       "      <td>0.0</td>\n",
       "      <td>0.0</td>\n",
       "      <td>0.0</td>\n",
       "      <td>0.0</td>\n",
       "      <td>0.0</td>\n",
       "      <td>0.0</td>\n",
       "      <td>0.0</td>\n",
       "    </tr>\n",
       "    <tr>\n",
       "      <th>4</th>\n",
       "      <td>192.168.10.14-8.253.185.121-49486-80-6</td>\n",
       "      <td>8.253.185.121</td>\n",
       "      <td>80</td>\n",
       "      <td>192.168.10.14</td>\n",
       "      <td>49486</td>\n",
       "      <td>6</td>\n",
       "      <td>03/07/2017 08:56:22</td>\n",
       "      <td>3</td>\n",
       "      <td>2</td>\n",
       "      <td>0</td>\n",
       "      <td>...</td>\n",
       "      <td>1</td>\n",
       "      <td>20</td>\n",
       "      <td>0.0</td>\n",
       "      <td>0.0</td>\n",
       "      <td>0.0</td>\n",
       "      <td>0.0</td>\n",
       "      <td>0.0</td>\n",
       "      <td>0.0</td>\n",
       "      <td>0.0</td>\n",
       "      <td>0.0</td>\n",
       "    </tr>\n",
       "  </tbody>\n",
       "</table>\n",
       "<p>5 rows × 74 columns</p>\n",
       "</div>"
      ],
      "text/plain": [
       "                                  Flow_ID      Source_IP  Source_Port  \\\n",
       "0   192.168.10.5-8.254.250.126-49188-80-6  8.254.250.126           80   \n",
       "1   192.168.10.5-8.254.250.126-49188-80-6  8.254.250.126           80   \n",
       "2   192.168.10.5-8.254.250.126-49188-80-6  8.254.250.126           80   \n",
       "3   192.168.10.5-8.254.250.126-49188-80-6  8.254.250.126           80   \n",
       "4  192.168.10.14-8.253.185.121-49486-80-6  8.253.185.121           80   \n",
       "\n",
       "  Destination_IP  Destination_Port  Protocol            Timestamp  \\\n",
       "0   192.168.10.5             49188         6  03/07/2017 08:55:58   \n",
       "1   192.168.10.5             49188         6  03/07/2017 08:55:58   \n",
       "2   192.168.10.5             49188         6  03/07/2017 08:55:58   \n",
       "3   192.168.10.5             49188         6  03/07/2017 08:55:58   \n",
       "4  192.168.10.14             49486         6  03/07/2017 08:56:22   \n",
       "\n",
       "   Flow_Duration  Total_Fwd_Packets  Total_Backward_Packets  ...  \\\n",
       "0              4                  2                       0  ...   \n",
       "1              1                  2                       0  ...   \n",
       "2              1                  2                       0  ...   \n",
       "3              1                  2                       0  ...   \n",
       "4              3                  2                       0  ...   \n",
       "\n",
       "   act_data_pkt_fwd  min_seg_size_forward  Active_Mean  Active_Std  \\\n",
       "0                 1                    20          0.0         0.0   \n",
       "1                 1                    20          0.0         0.0   \n",
       "2                 1                    20          0.0         0.0   \n",
       "3                 1                    20          0.0         0.0   \n",
       "4                 1                    20          0.0         0.0   \n",
       "\n",
       "   Active_Max  Active_Min  Idle_Mean  Idle_Std  Idle_Max  Idle_Min  \n",
       "0         0.0         0.0        0.0       0.0       0.0       0.0  \n",
       "1         0.0         0.0        0.0       0.0       0.0       0.0  \n",
       "2         0.0         0.0        0.0       0.0       0.0       0.0  \n",
       "3         0.0         0.0        0.0       0.0       0.0       0.0  \n",
       "4         0.0         0.0        0.0       0.0       0.0       0.0  \n",
       "\n",
       "[5 rows x 74 columns]"
      ]
     },
     "execution_count": 8,
     "metadata": {},
     "output_type": "execute_result"
    }
   ],
   "source": [
    "# Looking into the raw training dataset\n",
    "mon_df.head(5)"
   ]
  },
  {
   "cell_type": "code",
   "execution_count": 10,
   "metadata": {},
   "outputs": [
    {
     "data": {
      "text/plain": [
       "(529481, 74)"
      ]
     },
     "execution_count": 10,
     "metadata": {},
     "output_type": "execute_result"
    }
   ],
   "source": [
    "mon_df.shape"
   ]
  },
  {
   "cell_type": "markdown",
   "metadata": {},
   "source": [
    "Looking into the raw training dataset from monday activies, we have 74 features and 529481 rows."
   ]
  },
  {
   "cell_type": "markdown",
   "metadata": {},
   "source": [
    "#### Feature extraction and transformation methods.\n",
    "We tried two approaches to transform the categorical features, such as `Source_IP`, `Destination_IP`, `Source_Port`, `Destination_Port` into numerical features.\n",
    "1. Transform categorical features into count/frequency format."
   ]
  },
  {
   "cell_type": "code",
   "execution_count": 7,
   "metadata": {},
   "outputs": [],
   "source": [
    "def frequent_encoding(features, df):\n",
    "    \n",
    "    # Econde the categorical values based on the frequency of usage normalized over all rows.\n",
    "    for feature in features:\n",
    "        num_unique = df[feature].nunique()\n",
    "        freq_count = df.groupby(feature)[feature].count()/ num_unique\n",
    "        df[feature] = df[feature].map(freq_count)\n",
    "        df[feature]  = (df[feature] - df[feature].min())/(df[feature].max() - df[feature].min())\n",
    "    return onehot_encode('Protocol', df)\n",
    "\n",
    "def onehot_encode(feature, df):\n",
    "    dum_protocol = cudf.get_dummies(df, columns=[feature], prefix=[feature])\n",
    "    protocol = dum_protocol.iloc[:, -3:] # hard coded. \n",
    "    df = cudf.concat([df, protocol], axis=1)\n",
    "    return df.drop(feature, inplace=False, axis=1)"
   ]
  },
  {
   "cell_type": "markdown",
   "metadata": {},
   "source": [
    "2. Compute entropy of categorical values based on subgroups formed from other related categorical feature.\n",
    "\n",
    "$$H(X) = -\\sum_{x_i \\in X} p(x_i) \\log p(x_i)$$ Where $p(x_i) = \\frac{count(x_i)}{count(X)}$\n",
    "\n",
    "We compute the entropy of sub-groups formed from `['Source_IP', 'Destination_IP', 'Source_Port', 'Destination_Port']` and compute all pairwise pairwise entropy among each other. Then the new numerical features are append to the original dataframe."
   ]
  },
  {
   "cell_type": "code",
   "execution_count": 8,
   "metadata": {},
   "outputs": [],
   "source": [
    "def entropy(series, base=None):\n",
    "    vc = series.value_counts(normalize=True, sort=False)\n",
    "    return -(vc * np.log(vc)/np.log(series.shape[0])).sum()\n",
    "def encode_entropy(df, feature , target):\n",
    "    feature_entropy = df.groupby(feature).agg(**{\n",
    "        target+\"_\"+feature: (target, entropy)\n",
    "        })\n",
    "    return df.join(feature_entropy, on=feature, rsuffix=\"r_\")"
   ]
  },
  {
   "cell_type": "code",
   "execution_count": 9,
   "metadata": {},
   "outputs": [],
   "source": [
    "cat_features = ['Source_IP', 'Destination_IP', 'Source_Port', 'Destination_Port']"
   ]
  },
  {
   "cell_type": "code",
   "execution_count": 10,
   "metadata": {},
   "outputs": [
    {
     "name": "stdout",
     "output_type": "stream",
     "text": [
      "Source_IP Destination_IP\n",
      "Source_IP Source_Port\n",
      "Source_IP Destination_Port\n",
      "Destination_IP Source_IP\n",
      "Destination_IP Source_Port\n",
      "Destination_IP Destination_Port\n",
      "Source_Port Source_IP\n",
      "Source_Port Destination_IP\n",
      "Source_Port Destination_Port\n",
      "Destination_Port Source_IP\n",
      "Destination_Port Destination_IP\n",
      "Destination_Port Source_Port\n"
     ]
    }
   ],
   "source": [
    "# Encode based on entropy of pairwise of categorical features.\n",
    "for feature, target in permutations(cat_features,2):\n",
    "    print(feature, target)\n",
    "    mon_df = encode_entropy(mon_df, feature, target)\n",
    "    frid_df = encode_entropy(frid_df, feature, target)\n",
    "\n"
   ]
  },
  {
   "cell_type": "code",
   "execution_count": 11,
   "metadata": {},
   "outputs": [],
   "source": [
    "def remove_categorical_features(df):\n",
    "    \"\"\"\n",
    "    Remove categorical features from the cic dataset\n",
    "    \"\"\"\n",
    "    df = df.select_dtypes(['float64','int64'])\n",
    "    return df.drop([\"Protocol\", \"Source_Port\", \"Destination_Port\"], axis=1, inplace=False)\n",
    "\n",
    "def remove_correlated_features(df):\n",
    "    \"\"\"\n",
    "    Remove features that are highly correlated. Mostly remove derived features.\n",
    "    param df: pd.DataFrame\n",
    "    \"\"\"\n",
    "    corr_mat = df.corr()\n",
    "    # Select upper triangle of correlation matrix\n",
    "    upper = corr_mat.where(np.triu(np.ones(corr_mat.shape), k=1).astype(np.bool))\n",
    "    # Find features with correlation greater than 0.95\n",
    "    to_drop = [column for column in upper.columns if any(upper[column] > 0.95)]\n",
    "    return to_drop, df.drop(to_drop, inplace=False, axis=1)"
   ]
  },
  {
   "cell_type": "markdown",
   "metadata": {},
   "source": [
    "Now remove all highly correlated features and extract label from test data for evaluation."
   ]
  },
  {
   "cell_type": "code",
   "execution_count": 12,
   "metadata": {},
   "outputs": [
    {
     "name": "stderr",
     "output_type": "stream",
     "text": [
      "/tmp/ipykernel_1205/268574397.py:15: DeprecationWarning: `np.bool` is a deprecated alias for the builtin `bool`. To silence this warning, use `bool` by itself. Doing this will not modify any behavior and is safe. If you specifically wanted the numpy scalar type, use `np.bool_` here.\n",
      "Deprecated in NumPy 1.20; for more details and guidance: https://numpy.org/devdocs/release/1.20.0-notes.html#deprecations\n",
      "  upper = corr_mat.where(np.triu(np.ones(corr_mat.shape), k=1).astype(np.bool))\n"
     ]
    }
   ],
   "source": [
    "# Training data\n",
    "X_train = remove_categorical_features(mon_df)\n",
    "removed_cols, X_train = remove_correlated_features(X_train)\n"
   ]
  },
  {
   "cell_type": "code",
   "execution_count": 13,
   "metadata": {},
   "outputs": [],
   "source": [
    "# Test data\n",
    "label = (frid_df['Label']==\"BENIGN\").astype(int)\n",
    "X_test = remove_categorical_features(frid_df)\n",
    "X_test.drop(removed_cols, inplace=True, axis=1)"
   ]
  },
  {
   "cell_type": "code",
   "execution_count": 14,
   "metadata": {},
   "outputs": [],
   "source": [
    "# Frequent_encoding \n",
    "#X_test = frequent_encoding(['Source IP', 'Destination IP', 'Source Port', 'Destination Port'], X_test.copy())"
   ]
  },
  {
   "cell_type": "code",
   "execution_count": 15,
   "metadata": {},
   "outputs": [],
   "source": [
    "# Normalize if needed. \n",
    "normalize = lambda x : (x - x.min()) /(x.max() - x.min() + 0.0000001)\n"
   ]
  },
  {
   "cell_type": "code",
   "execution_count": 16,
   "metadata": {},
   "outputs": [],
   "source": [
    "# Transform back from pandas to cudf to work with Loda. \n",
    "X_train = cudf.from_pandas(X_train)\n",
    "X_test = cudf.from_pandas(X_test)"
   ]
  },
  {
   "cell_type": "markdown",
   "metadata": {},
   "source": [
    "#### Train and test anomaly detector"
   ]
  },
  {
   "cell_type": "markdown",
   "metadata": {},
   "source": [
    "Now we fit a `Loda` to the training dataset. We can simply train the anomaly detector and generate scores from the trained model. For this experiment, we will fit the clean data from `Monday working hours` and generate scores for the `Friday working hours`\n",
    "\n",
    "We train `Loda` algorithm with `number_random_cuts=1000`."
   ]
  },
  {
   "cell_type": "code",
   "execution_count": 17,
   "metadata": {},
   "outputs": [],
   "source": [
    "ld = Loda(n_random_cuts=1000)\n",
    "ld.fit(X_train.values)\n",
    "x_scores = ld.score(X_test.values)"
   ]
  },
  {
   "cell_type": "markdown",
   "metadata": {},
   "source": [
    "#### Model evaluation\n",
    "\n",
    "Following is the AUC (Area under ROC curve) and average precision (AP) scores of the test data. "
   ]
  },
  {
   "cell_type": "code",
   "execution_count": 18,
   "metadata": {},
   "outputs": [],
   "source": [
    "auc, ap = metrics(label, x_scores)"
   ]
  },
  {
   "cell_type": "code",
   "execution_count": 19,
   "metadata": {},
   "outputs": [
    {
     "name": "stdout",
     "output_type": "stream",
     "text": [
      "AUC: 0.5449105501174927 and Average precision (AP): 0.9919086723326607\n"
     ]
    }
   ],
   "source": [
    "print(f\"AUC: {auc} and Average precision (AP): {ap}\")"
   ]
  },
  {
   "cell_type": "markdown",
   "metadata": {},
   "source": [
    "AP is good but AUC is poor, we can improve this by reducing some of the noisy features. One way is to use PCA to remove irrelevant feature, it improves the performance by reducing the noise features."
   ]
  },
  {
   "cell_type": "markdown",
   "metadata": {},
   "source": [
    "#### Removing redundant features using PCA\n",
    "We use `cudf` PCA implementation as follows. "
   ]
  },
  {
   "cell_type": "code",
   "execution_count": 20,
   "metadata": {},
   "outputs": [],
   "source": [
    "def pca_loda(x_train, x_test, variance):\n",
    "    \n",
    "    x_train, n_component = pca_transform(x_train, variance=variance)\n",
    "    x_test  = cu_pca(n_components=n_component, whiten=False).fit_transform(x_test)\n",
    "    \n",
    "    loda_pca = Loda(n_random_cuts=500)\n",
    "    loda_pca.fit(x_train)\n",
    "    loda_score = loda_pca.score(x_test)\n",
    "    return metrics(label, loda_score), loda_score, n_component\n",
    "\n",
    "def pca_transform(df, variance=0.99):\n",
    "    \"\"\"Apply PCA and keep #components with #variance kept\"\"\"\n",
    "    pca = cu_pca(n_components=df.shape[1])\n",
    "    pca_xtrain = pca.fit_transform(df)\n",
    "    variance_exp = cp.cumsum(pca.explained_variance_ratio_)\n",
    "    n_components = variance_exp<=variance\n",
    "    return pca_xtrain[:,n_components], sum(n_components)"
   ]
  },
  {
   "cell_type": "code",
   "execution_count": 21,
   "metadata": {},
   "outputs": [],
   "source": [
    "ap_auc, pca_scores, n_components_used = pca_loda(X_train.values, X_test.values, variance=0.999) "
   ]
  },
  {
   "cell_type": "code",
   "execution_count": 22,
   "metadata": {},
   "outputs": [
    {
     "data": {
      "image/png": "[encoded data removed]",
      "text/plain": [
       "<Figure size 1200x500 with 2 Axes>"
      ]
     },
     "metadata": {},
     "output_type": "display_data"
    }
   ],
   "source": [
    "fig = plt.figure(figsize=(12,5))\n",
    "plt.subplot(1,2,1)\n",
    "plot_pr(label, pca_scores)\n",
    "plt.subplot(1,2,2)\n",
    "plot_roc(label, pca_scores)"
   ]
  },
  {
   "cell_type": "code",
   "execution_count": 23,
   "metadata": {},
   "outputs": [
    {
     "name": "stdout",
     "output_type": "stream",
     "text": [
      "Total number features used 11\n"
     ]
    }
   ],
   "source": [
    "print(f\"Total number features used {n_components_used}\")"
   ]
  },
  {
   "cell_type": "markdown",
   "metadata": {},
   "source": [
    "## Summary\n",
    "In this notebook, we show a proof of concept of applying the GPU accelerated Loda algorithm for Intrusion detection use cases. We evaluated the performance of the algorithm on the public intrusion detection dataset to identify attacks in the form of bots. We show the result both on raw data and noise-reduced features. The metrics (AUC and AP) shows the Loda algorithm can be used as an effective tool to identify attack for intrusion detection use case."
   ]
  },
  {
   "cell_type": "markdown",
   "metadata": {},
   "source": [
    "### Reference\n",
    "- Sharafaldin, I.,Lashkari, A. H., & Ghorbani, A. A. (2018, January). Toward generating a new intrusion detection dataset and intrusion traffic characterization\n",
    "- Pevný, T. (2016). Loda: Lightweight on-line detector of anomalies. Machine Learning"
   ]
  },
  {
   "cell_type": "code",
   "execution_count": null,
   "metadata": {},
   "outputs": [],
   "source": []
  }
 ],
 "metadata": {
  "kernelspec": {
   "display_name": "Python 3 (ipykernel)",
   "language": "python",
   "name": "python3"
  },
  "language_info": {
   "codemirror_mode": {
    "name": "ipython",
    "version": 3
   },
   "file_extension": ".py",
   "mimetype": "text/x-python",
   "name": "python",
   "nbconvert_exporter": "python",
   "pygments_lexer": "ipython3",
   "version": "3.8.15"
  },
  "toc-autonumbering": false,
  "toc-showcode": true,
  "toc-showmarkdowntxt": true
 },
 "nbformat": 4,
 "nbformat_minor": 4
}
