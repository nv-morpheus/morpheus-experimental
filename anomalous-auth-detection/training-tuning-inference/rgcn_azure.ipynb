{
 "cells": [
  {
   "cell_type": "markdown",
   "id": "e6651de6-53a6-45b0-b41e-db295f2692e1",
   "metadata": {},
   "source": [
    "## Detection of Anomalous Authentication on Azure-AD signon using Relational Graph Neural Network (RGCN)"
   ]
  },
  {
   "cell_type": "markdown",
   "id": "6ef3ce1d-25e1-4e16-b98b-95e94ac5bd6e",
   "metadata": {},
   "source": [
    "### Content\n",
    "1. Introduction\n",
    "2. Dataset Loading & Processing\n",
    "3. Graph Construction\n",
    "4. Model Training\n",
    "5. Evaluation\n",
    "6. Summary"
   ]
  },
  {
   "cell_type": "markdown",
   "id": "4b0912b6-6364-4789-941a-b27ccee662ea",
   "metadata": {},
   "source": [
    "### 1. Introduction"
   ]
  },
  {
   "cell_type": "markdown",
   "id": "16e6eea4-4a9d-4d84-97ec-a22e5deb41cc",
   "metadata": {},
   "source": [
    "Azure active directory (Azure-AD) is an identity and access management service, that helps users to access external and internal resources such as Office365, SaaS applications. The Sign-in logs in Azure-AD log identifies who the user is, how the application is used for the access and the target accessed by the identity [[1]](https://docs.microsoft.com/en-us/azure/active-directory/reports-monitoring/concept-sign-ins). On a given time 𝑡, a service 𝑠 is requested by user 𝑢 from device 𝑑 using authentication mechanism of 𝑎 to be either allowed or blocked. For in detail explanation refer the following page of the [Microsoft azure-sign-in](https://docs.microsoft.com/en-us/azure/active-directory/reports-monitoring/concept-sign-ins)\n",
    "\n",
    "Similar works on anomalous authentication detection includes applying blackbox ML models on handcrafted features extracted from authentication logs or rule-based models. This workflow closely follows on the success of heterogenous GNN embedding on cyber application such as, fraud detection [[2](https://doi.org/10.1145/3269206.3272010),[5](https://www.vldb.org/pvldb/vol15/p427-rao.pdf)], cyber-attack detection on prevalence dataset [[3](http://arxiv.org/abs/2112.08986)]. Unlike earlier models, this work uses heterogenous graph for authentication graph modeling and relational GNN embedding for capturing relations among different entities. This allows us to take advantage of relations among users/services, and at the same time avoids feature extracting phase. At the end the model learns both from structural identity and unique feature identity of individual users. \n",
    "\n",
    "The main motivation behind this work is to tackle the drawbacks of rule-based or feature based system, such as failure to generalize for new attacks and the requirements for dynamic rules that need to be maintained often. An evolving attack and connected anomalous users across the network are hard to detect through feature/rule-based methods. Additionally, using graph approach minimizes efforts on feature engineering tasks."
   ]
  },
  {
   "cell_type": "markdown",
   "id": "109b65b6-20d7-4952-aa42-d2c478a80b4f",
   "metadata": {},
   "source": [
    "This workflow shows end-to-end pipeline for azure anomalous sign-in detection using heterogenous relational graph neural network (RGCN)."
   ]
  },
  {
   "cell_type": "code",
   "execution_count": 44,
   "id": "39f48fa1-796f-403e-8fe6-8db68401d80f",
   "metadata": {},
   "outputs": [
    {
     "name": "stdout",
     "output_type": "stream",
     "text": [
      "The autoreload extension is already loaded. To reload it, use:\n",
      "  %reload_ext autoreload\n"
     ]
    },
    {
     "data": {
      "text/plain": [
       "<torch._C.Generator at 0x7ff19dc0b650>"
      ]
     },
     "execution_count": 44,
     "metadata": {},
     "output_type": "execute_result"
    }
   ],
   "source": [
    "%load_ext autoreload\n",
    "%autoreload 2\n",
    "import warnings\n",
    "warnings.filterwarnings('ignore')\n",
    "\n",
    "import torch\n",
    "import torch.nn as nn\n",
    "import pandas as pd\n",
    "import torch.nn.functional as F\n",
    "import dgl.nn.pytorch as dglnn\n",
    "from utils import *\n",
    "from sklearn.metrics import roc_auc_score, accuracy_score\n",
    "from model import HeteroRGCN\n",
    "from tqdm import trange\n",
    "from data_processing import   build_azure_graph,  synthetic_azure\n",
    "\n",
    "from utils import get_metrics\n",
    "from model_training import init_loaders, train, evaluate, save_model, load_model\n",
    "torch.manual_seed(0)"
   ]
  },
  {
   "cell_type": "markdown",
   "id": "da9c71ef-6796-419e-989a-22c64643821e",
   "metadata": {},
   "source": [
    "\n",
    "### Dataset Loading and Processing\n",
    "Load dataset and set true fraud label for the testing and status flag for training. Define set of meta columns to exclude as training features. "
   ]
  },
  {
   "cell_type": "code",
   "execution_count": 45,
   "id": "2775118d-684f-4548-b615-83ec196559c0",
   "metadata": {},
   "outputs": [],
   "source": [
    "status_label = 'status_flag'\n",
    "result_dir = 'azure_result'\n",
    "\n",
    "\n",
    "meta_cols = ['day','appId', 'userId', 'ipAddress',\n",
    "            'fraud_label','appId_id','userId_id','ipAddress_id', 'auth_id', 'status_flag']\n",
    "\n",
    "train_data, test_data, train_idx, test_idx, labels, df  = synthetic_azure('../dataset/azure_synthetic/azure_ad_logs_sample_with_anomaly_all.json')\n",
    "\n",
    "fraud_labels = df['fraud_label'].values\n"
   ]
  },
  {
   "cell_type": "code",
   "execution_count": 46,
   "id": "f404d0c8-35c0-47d8-b225-3e73959908a5",
   "metadata": {},
   "outputs": [
    {
     "name": "stdout",
     "output_type": "stream",
     "text": [
      "The distribution of status flag for the train data is:\n",
      " 0    1584\n",
      "1     408\n",
      "Name: status_flag, dtype: int64\n",
      "The distribution of fraud for the test data is:\n",
      " 0.0    146\n",
      "1.0     89\n",
      "Name: fraud_label, dtype: int64\n"
     ]
    }
   ],
   "source": [
    "print('The distribution of status flag for the train data is:\\n', train_data['status_flag'].value_counts())\n",
    "print('The distribution of fraud for the test data is:\\n', test_data['fraud_label'].value_counts())"
   ]
  },
  {
   "cell_type": "code",
   "execution_count": 47,
   "id": "5498692c",
   "metadata": {},
   "outputs": [
    {
     "name": "stdout",
     "output_type": "stream",
     "text": [
      "Days in test set [243, 242]\n"
     ]
    }
   ],
   "source": [
    "print(f\"Days in test set {test_data.day.unique().tolist()}\")"
   ]
  },
  {
   "cell_type": "code",
   "execution_count": 48,
   "id": "3b2d509a-38bc-4a06-9c96-f9c9042d4a96",
   "metadata": {},
   "outputs": [],
   "source": [
    "device = torch.device(\"cuda:0\" if torch.cuda.is_available() else \"cpu\")"
   ]
  },
  {
   "cell_type": "markdown",
   "id": "57c09da9-efa3-472f-946d-1f104a0c0687",
   "metadata": {},
   "source": [
    "### Graph Construction\n",
    "\n",
    "Construct training and inference graph. Each graph is constructed using `train_data` and `test_data`, with graph schema defined in the `build_azure_graph` method. Create feature and compute weight for training proportion.\n",
    "\n",
    "![Azure-graph](graph.png)"
   ]
  },
  {
   "cell_type": "code",
   "execution_count": 49,
   "id": "f68861e3-5ec2-491e-80c8-096cfb9bb5eb",
   "metadata": {},
   "outputs": [],
   "source": [
    "g, _ = build_azure_graph(train_data, meta_cols)\n",
    "g_test, feature_tensors = build_azure_graph(df, meta_cols)\n",
    "n_nodes = sum([g.number_of_nodes(n_type) for n_type in g.ntypes])\n",
    "n_edges = sum([g.number_of_edges(e_type) for e_type in g.etypes])"
   ]
  },
  {
   "cell_type": "code",
   "execution_count": 50,
   "id": "cee62f13-a417-4c4b-8fe2-2f098c1efb73",
   "metadata": {},
   "outputs": [],
   "source": [
    "# hyperparameters\n",
    "in_size, hidden_size, out_size, n_layers, embedding_size = feature_tensors.shape[1], 16, 2, 2, 8  # 2 16\n",
    "target_node = \"authentication\"\n",
    "hyperparameters = {\"in_size\":in_size, \"hidden_size\":hidden_size, \"out_size\":out_size,\n",
    "                   \"n_layers\":n_layers, \"embedding_size\":embedding_size, \"target_node\":target_node}\n",
    "labels = torch.LongTensor(labels).to(device)\n",
    "scale_pos_weight = train_data[status_label].sum() / train_data.shape[0]\n",
    "scale_pos_weight = torch.tensor(\n",
    "    [scale_pos_weight, 1-scale_pos_weight]).to(device)\n",
    "\n"
   ]
  },
  {
   "cell_type": "markdown",
   "id": "5a17609f-5082-44dc-b2df-ce13182e5831",
   "metadata": {},
   "source": [
    "### Model Training\n",
    "\n",
    "#### RGCN Model\n",
    "\n",
    "At high level, the RGCN model takes graph 𝐺 of nodes features 𝑋 and learn an embedding of 𝐺 with a function 𝑓:𝑉→𝑅𝑑 that map each node 𝑣∈ 𝑉 to d-dimensional vector [[4]](https://arxiv.org/abs/1703.06103). The model is trained as a semi-supervised settings to classify each authentication as potential success or failure authentication from historical authentication logs. The embedding vector for “authentication” node is then used to score whether the authentication is benign or anomaly. We compare the detection score of RGCN SoftMax layer along feeding the learned embedding to unsupervised anomaly detection algorithm isolation forest."
   ]
  },
  {
   "cell_type": "code",
   "execution_count": 51,
   "id": "f3633975-7b86-4f36-a2fe-695bd74580f5",
   "metadata": {},
   "outputs": [
    {
     "name": "stdout",
     "output_type": "stream",
     "text": [
      " ---- Data statistics ------\n",
      "            # Nodes: 2375\n",
      "            # Edges: 11952\n",
      "            # Features Shape: 2227\n",
      "            # Labeled Train samples: 1992\n",
      "            # Unlabeled Test samples: 235\n"
     ]
    }
   ],
   "source": [
    "print(\n",
    "    \"\"\" ---- Data statistics ------\n",
    "            # Nodes: {}\n",
    "            # Edges: {}\n",
    "            # Features Shape: {}\n",
    "            # Labeled Train samples: {}\n",
    "            # Unlabeled Test samples: {}\"\"\".\n",
    "    format(\n",
    "        n_nodes, n_edges, feature_tensors.shape[0],\n",
    "        train_data.shape[0],\n",
    "        test_data.shape[0]))"
   ]
  },
  {
   "cell_type": "markdown",
   "id": "05083534-711c-4497-bfdd-8dbdc9e40872",
   "metadata": {},
   "source": [
    "#### Training\n",
    "\n",
    "The model is trained using synthetic azure log data of selected users and tested on future days of the azure logs. Selected features are aggregated as OHE per day for individual users, app requested, and device activity logs and authentication behaviors. \n",
    "\n",
    "The following features are converted as OHE features of **authentication** node features \n",
    "```python\n",
    "['deviceDetail.trustType', 'riskState','riskLevelAggregated','riskLevelDuringSignIn','clientAppUsed','deviceDetail.operatingSystem']\n",
    "```\n",
    "\n",
    "Then the OHE features along other features are aggregated based on the following groups  \n",
    "```python \n",
    "group_by = ['appId', 'userId', 'ipAddress', 'day']\n",
    "``` \n",
    "with the following aggregation function \n",
    "```python\n",
    "agg_func = {\n",
    "        'location.city': 'nunique',\n",
    "        'location.countryOrRegion': 'nunique',\n",
    "        'resourceDisplayName': 'nunique',\n",
    "        'fraud_label': 'max',\n",
    "        'deviceDetail.isCompliant': 'sum',\n",
    "        'deviceDetail.isManaged': 'sum',\n",
    "        'riskDetail': 'sum',\n",
    "        'status_flag': 'max'} \n",
    "```\n",
    "  \n",
    "For all OHE features ```sum``` aggregation is used. This to capture the aggregated behavior patter of a user entities with combinination of the `device`, `service` across selected time span. The final aggregated features are set as ``authentication` node features, for all other nodes the graph is initialized with dummy features.\n"
   ]
  },
  {
   "cell_type": "markdown",
   "id": "7678a12c-e268-4909-bd2e-350daaab89d7",
   "metadata": {},
   "source": [
    "The `statusFlag` indicates whether an azure authentication results into success or failure due to azure risk scores. This verify which authentication is allowed or blocked due to several reason [1]. When authentication results to failure, azure-AD reports failure reason and error code associated with the failure. Due to scarcity of real anomalous authentication events, we propse to use statusFlag as indicator of authentication that need to be blocked or allowed. \n",
    "\n",
    "Using historical log data, for semi-supervised training we employ the `statusFlag` feature for training the RGCN model to either allow or block an authentication. As a result the model is trained to block events that looks failure cases due to several reason, which an anomalous authentication is subset of authentication under \"failure\" category. For training set we convert all `statusFlag` into binary feature of \"success\" and \"failure\" cases. "
   ]
  },
  {
   "cell_type": "markdown",
   "id": "1d542f55-3ec3-4e8a-96a5-3064e5565f13",
   "metadata": {},
   "source": [
    "Set dataloaders, define model and optimizers."
   ]
  },
  {
   "cell_type": "code",
   "execution_count": 52,
   "id": "3c9c968b-8b56-4631-96df-44d67d27443b",
   "metadata": {},
   "outputs": [],
   "source": [
    "epochs = 30\n",
    "train_loader, val_loader, test_loader = init_loaders(\n",
    "    g, train_idx, test_idx=test_idx, val_idx=train_idx, g_test=g_test,\n",
    "    target_node=target_node)\n",
    "\n",
    "model = HeteroRGCN(g, in_size, hidden_size, out_size,\n",
    "                   n_layers, embedding_size, device=device, target=target_node).to(device)\n",
    "\n",
    "optimizer = torch.optim.Adam(\n",
    "    model.parameters(),\n",
    "    lr=0.001, weight_decay=5e-4)\n",
    "loss_func = nn.CrossEntropyLoss(weight=scale_pos_weight.float())\n",
    "best_model = model"
   ]
  },
  {
   "cell_type": "code",
   "execution_count": 53,
   "id": "c030aba7-975b-479d-83ef-71269db11392",
   "metadata": {},
   "outputs": [
    {
     "name": "stderr",
     "output_type": "stream",
     "text": [
      "  7%|▋         | 2/30 [00:00<00:02, 13.86it/s]"
     ]
    },
    {
     "name": "stdout",
     "output_type": "stream",
     "text": [
      "Epoch 000/030 | Train Accuracy: 0.5746 | Train Loss: 1.3770\n",
      "Validation Accuracy: 0.6913 auc 0.5604\n",
      "Epoch 001/030 | Train Accuracy: 0.6613 | Train Loss: 1.3622\n",
      "Validation Accuracy: 0.7786 auc 0.6232\n",
      "Epoch 002/030 | Train Accuracy: 0.7379 | Train Loss: 1.3479\n",
      "Validation Accuracy: 0.8183 auc 0.6797\n",
      "Epoch 003/030 | Train Accuracy: 0.7520 | Train Loss: 1.3337\n"
     ]
    },
    {
     "name": "stderr",
     "output_type": "stream",
     "text": [
      " 20%|██        | 6/30 [00:00<00:01, 14.68it/s]"
     ]
    },
    {
     "name": "stdout",
     "output_type": "stream",
     "text": [
      "Validation Accuracy: 0.8238 auc 0.7276\n",
      "Epoch 004/030 | Train Accuracy: 0.7651 | Train Loss: 1.3194\n",
      "Validation Accuracy: 0.8283 auc 0.7587\n",
      "Epoch 005/030 | Train Accuracy: 0.7722 | Train Loss: 1.3050\n",
      "Validation Accuracy: 0.8343 auc 0.7771\n",
      "Epoch 006/030 | Train Accuracy: 0.7692 | Train Loss: 1.2902\n",
      "Validation Accuracy: 0.8308 auc 0.7879\n"
     ]
    },
    {
     "name": "stderr",
     "output_type": "stream",
     "text": [
      " 33%|███▎      | 10/30 [00:00<00:01, 14.73it/s]"
     ]
    },
    {
     "name": "stdout",
     "output_type": "stream",
     "text": [
      "Epoch 007/030 | Train Accuracy: 0.7722 | Train Loss: 1.2750\n",
      "Validation Accuracy: 0.8414 auc 0.7940\n",
      "Epoch 008/030 | Train Accuracy: 0.7712 | Train Loss: 1.2593\n",
      "Validation Accuracy: 0.8609 auc 0.7982\n",
      "Epoch 009/030 | Train Accuracy: 0.7974 | Train Loss: 1.2435\n",
      "Validation Accuracy: 0.8604 auc 0.7997\n"
     ]
    },
    {
     "name": "stderr",
     "output_type": "stream",
     "text": [
      " 40%|████      | 12/30 [00:00<00:01, 14.74it/s]"
     ]
    },
    {
     "name": "stdout",
     "output_type": "stream",
     "text": [
      "Epoch 010/030 | Train Accuracy: 0.7974 | Train Loss: 1.2272\n",
      "Validation Accuracy: 0.8604 auc 0.8046\n",
      "Epoch 011/030 | Train Accuracy: 0.8266 | Train Loss: 1.2102\n",
      "Validation Accuracy: 0.8745 auc 0.8151\n",
      "Epoch 012/030 | Train Accuracy: 0.8286 | Train Loss: 1.1930\n",
      "Validation Accuracy: 0.8735 auc 0.8231\n"
     ]
    },
    {
     "name": "stderr",
     "output_type": "stream",
     "text": [
      " 53%|█████▎    | 16/30 [00:01<00:00, 14.65it/s]"
     ]
    },
    {
     "name": "stdout",
     "output_type": "stream",
     "text": [
      "Epoch 013/030 | Train Accuracy: 0.8256 | Train Loss: 1.1753\n",
      "Validation Accuracy: 0.8665 auc 0.8248\n",
      "Epoch 014/030 | Train Accuracy: 0.8135 | Train Loss: 1.1573\n",
      "Validation Accuracy: 0.8579 auc 0.8265\n",
      "Epoch 015/030 | Train Accuracy: 0.8135 | Train Loss: 1.1391\n",
      "Validation Accuracy: 0.8579 auc 0.8284\n"
     ]
    },
    {
     "name": "stderr",
     "output_type": "stream",
     "text": [
      " 60%|██████    | 18/30 [00:01<00:00, 14.62it/s]"
     ]
    },
    {
     "name": "stdout",
     "output_type": "stream",
     "text": [
      "Epoch 016/030 | Train Accuracy: 0.8135 | Train Loss: 1.1206\n",
      "Validation Accuracy: 0.8564 auc 0.8299\n",
      "Epoch 017/030 | Train Accuracy: 0.8135 | Train Loss: 1.1020\n",
      "Validation Accuracy: 0.8630 auc 0.8309\n",
      "Epoch 018/030 | Train Accuracy: 0.8095 | Train Loss: 1.0834\n",
      "Validation Accuracy: 0.8544 auc 0.8324\n"
     ]
    },
    {
     "name": "stderr",
     "output_type": "stream",
     "text": [
      " 73%|███████▎  | 22/30 [00:01<00:00, 14.68it/s]"
     ]
    },
    {
     "name": "stdout",
     "output_type": "stream",
     "text": [
      "Epoch 019/030 | Train Accuracy: 0.8095 | Train Loss: 1.0648\n",
      "Validation Accuracy: 0.8464 auc 0.8345\n",
      "Epoch 020/030 | Train Accuracy: 0.8095 | Train Loss: 1.0464\n",
      "Validation Accuracy: 0.8464 auc 0.8367\n",
      "Epoch 021/030 | Train Accuracy: 0.8095 | Train Loss: 1.0281\n",
      "Validation Accuracy: 0.8474 auc 0.8384\n"
     ]
    },
    {
     "name": "stderr",
     "output_type": "stream",
     "text": [
      " 80%|████████  | 24/30 [00:01<00:00, 14.68it/s]"
     ]
    },
    {
     "name": "stdout",
     "output_type": "stream",
     "text": [
      "Epoch 022/030 | Train Accuracy: 0.8115 | Train Loss: 1.0101\n",
      "Validation Accuracy: 0.8564 auc 0.8404\n",
      "Epoch 023/030 | Train Accuracy: 0.8145 | Train Loss: 0.9923\n",
      "Validation Accuracy: 0.8529 auc 0.8428\n",
      "Epoch 024/030 | Train Accuracy: 0.8105 | Train Loss: 0.9749\n",
      "Validation Accuracy: 0.8504 auc 0.8463\n"
     ]
    },
    {
     "name": "stderr",
     "output_type": "stream",
     "text": [
      " 93%|█████████▎| 28/30 [00:01<00:00, 14.73it/s]"
     ]
    },
    {
     "name": "stdout",
     "output_type": "stream",
     "text": [
      "Epoch 025/030 | Train Accuracy: 0.8266 | Train Loss: 0.9578\n",
      "Validation Accuracy: 0.8559 auc 0.8516\n",
      "Epoch 026/030 | Train Accuracy: 0.8256 | Train Loss: 0.9414\n",
      "Validation Accuracy: 0.8559 auc 0.8549\n",
      "Epoch 027/030 | Train Accuracy: 0.8236 | Train Loss: 0.9257\n",
      "Validation Accuracy: 0.8549 auc 0.8601\n"
     ]
    },
    {
     "name": "stderr",
     "output_type": "stream",
     "text": [
      "100%|██████████| 30/30 [00:02<00:00, 14.66it/s]"
     ]
    },
    {
     "name": "stdout",
     "output_type": "stream",
     "text": [
      "Epoch 028/030 | Train Accuracy: 0.8236 | Train Loss: 0.9106\n",
      "Validation Accuracy: 0.8534 auc 0.8642\n",
      "Epoch 029/030 | Train Accuracy: 0.8246 | Train Loss: 0.8964\n",
      "Validation Accuracy: 0.8539 auc 0.8690\n"
     ]
    },
    {
     "name": "stderr",
     "output_type": "stream",
     "text": [
      "\n"
     ]
    }
   ],
   "source": [
    "best_auc = 0\n",
    "for epoch in trange(epochs):\n",
    "    train_acc, loss = train(\n",
    "        model, loss_func, train_loader, labels, optimizer, feature_tensors,\n",
    "        target_node=target_node, device=device)\n",
    "    print(\"Epoch {:03d}/{:03d} | Train Accuracy: {:.4f} | Train Loss: {:.4f}\".format(\n",
    "        epoch, epochs, train_acc, loss))\n",
    "\n",
    "    val_logits, val_seed, _ = evaluate(\n",
    "        model, val_loader, feature_tensors, target_node, device=device)\n",
    "    val_accuracy = accuracy_score(\n",
    "        val_logits.argmax(1),\n",
    "        labels.long()[val_seed].cpu()).item()\n",
    "    val_auc = roc_auc_score(labels.long()[val_seed].cpu().numpy(),\n",
    "                            val_logits[:, 1].numpy(),)\n",
    "    print(\n",
    "        \"Validation Accuracy: {:.4f} auc {:.4f}\".format(\n",
    "            val_accuracy, val_auc))\n",
    "        \n",
    "best_model = model"
   ]
  },
  {
   "cell_type": "markdown",
   "id": "a60f91fe-8a76-4281-aed6-38e08b645f55",
   "metadata": {},
   "source": [
    "Save model, hyperparameters and graph structure."
   ]
  },
  {
   "cell_type": "code",
   "execution_count": 71,
   "id": "163b6f46-4f27-4fa7-82b5-9ca3cf9338d6",
   "metadata": {},
   "outputs": [],
   "source": [
    "# Save model\n",
    "save_model(g, model, hyperparameters, \"../modeldir/\")"
   ]
  },
  {
   "cell_type": "code",
   "execution_count": 72,
   "id": "b56c3508",
   "metadata": {},
   "outputs": [],
   "source": [
    "# Load the model for inference\n",
    "model_new, g_ = load_model(\"../modeldir/\")"
   ]
  },
  {
   "cell_type": "markdown",
   "id": "16d94ce3-f08e-43d6-8653-8a7972616033",
   "metadata": {
    "tags": []
   },
   "source": [
    "### Evaluation\n",
    "\n",
    "For evaluation and comparing we need to create the \"authentication\" embedding from the training and test dataset. "
   ]
  },
  {
   "cell_type": "code",
   "execution_count": 56,
   "id": "e4c938f8-7945-4f62-8ac7-9ee94fa4a02c",
   "metadata": {},
   "outputs": [],
   "source": [
    "## Create training & test embedding\n",
    "train_logits, train_seeds, train_embedding = evaluate(\n",
    "    best_model, train_loader, feature_tensors, target_node)"
   ]
  },
  {
   "cell_type": "code",
   "execution_count": 57,
   "id": "02c323c7-07f6-432c-8769-350dce555b3d",
   "metadata": {},
   "outputs": [],
   "source": [
    "test_logits, test_seeds, test_embedding = evaluate(\n",
    "    best_model, test_loader, feature_tensors, target_node)"
   ]
  },
  {
   "cell_type": "markdown",
   "id": "293583d6",
   "metadata": {},
   "source": [
    "In the synthetic test data there is one account with an attack authentication for the last day of the collected events. To test the model performance, we set all events by the attacker account as fraudulent login for the last day and measure AUC and accuracy for all the event in the last two days."
   ]
  },
  {
   "cell_type": "code",
   "execution_count": 68,
   "id": "3f4334d5",
   "metadata": {},
   "outputs": [
    {
     "name": "stdout",
     "output_type": "stream",
     "text": [
      "AUC: 0.7582730490995844 and Accuracy: 0.8468085106382979\n"
     ]
    }
   ],
   "source": [
    "test_acc = accuracy_score(\n",
    "    test_logits.argmax(dim=1),\n",
    "    labels.long()[test_seeds].cpu()).item()\n",
    "test_auc = roc_auc_score(fraud_labels[test_seeds],\n",
    "                         test_logits[:, 1].numpy())\n",
    "print(f\"AUC: {test_auc} and Accuracy: {test_acc}\")"
   ]
  },
  {
   "cell_type": "markdown",
   "id": "31f40a07",
   "metadata": {},
   "source": [
    "The `train_logit` and `test_logits` are the output of the RGCN classification layer. We can evaluate the model using `test_logits` along evaluation label. The `train_embedding` and `test_embedding` dataframe consists of an embedding of the authentication. These embedding\n",
    "can be used to train & evaluate for other baseline models, such as XGBoost or unsupervised model (Isoltion Forest).\n",
    "\n",
    "Further we compare the performance against other baseline models on test data that include anomalous authentication events. There are four models compared. \n",
    "\n",
    "1. RGCN: This the proposed model with binary output from the final softmax layer of the RGCN model.\n",
    "2. RGCN_IF: This model takes authentication embedding from RGCN and feed IsolationForest with authentication embedding.\n",
    "3. If_OHE: Baseline IsolationForest trained with preprocessed features & OHE of few cardinality categorical features.\n",
    "4. XGB_OHE: Similar to IF_OHE with XGBoost used for training on raw features for binary predictions using `statusFlag` as label.\n",
    "\n",
    "Following figure shows ROC curve of the four models on synthetic test data."
   ]
  },
  {
   "cell_type": "code",
   "execution_count": 69,
   "id": "a2ed6ede",
   "metadata": {},
   "outputs": [
    {
     "name": "stdout",
     "output_type": "stream",
     "text": [
      "Final Test Accuracy: 0.847 auc 0.758\n"
     ]
    }
   ],
   "source": [
    "col_remove = meta_cols \n",
    "metrics_result = pd.DataFrame()\n",
    "test_scores = test_data[meta_cols].copy()\n",
    "\n",
    "print(\"Final Test Accuracy: {:.3f} auc {:.3f}\".format(test_acc, test_auc))\n",
    "# RGCN\n",
    "\n",
    "test_scores['rgcn'] = test_logits.numpy()[:,1]\n",
    "\n",
    "# XGBoost\n",
    "_, _, _, _, _, _, _, _, pred_xgb, roc_xgg = baseline_models(\n",
    "    train_x=train_data.drop(col_remove, axis=1), test_x=test_data.drop(col_remove, axis=1),\n",
    "    train_idx=train_idx, test_idx=test_idx, labels=labels.cpu().numpy() ,\n",
    "    test_label=fraud_labels, name='XGB')\n",
    "\n",
    "test_scores['xgb'] = pred_xgb\n",
    "\n",
    "# RGCN+XGBoost\n",
    "_, _, _, _, _, _, _, _, pred_rgcn_xgb, _ = baseline_models(\n",
    "    train_x=train_embedding.cpu().numpy(),\n",
    "    test_x=test_embedding.cpu().numpy(), \n",
    "    train_idx=train_seeds,\n",
    "    test_idx=test_seeds,\n",
    "    labels=labels.cpu().numpy(),\n",
    "    test_label=fraud_labels,\n",
    "    name='RGCN+XGB')\n",
    "\n",
    "test_scores['rgcn_xgb'] = pred_rgcn_xgb\n",
    "\n",
    "# rgcn + iforest\n",
    "_, _, _, _, _, _, _, _, pred_rgcn_if, roc_rgcniff = unsupervised_models(\n",
    "    train_x=train_embedding.cpu().numpy(), test_x=test_embedding.cpu().numpy(), \n",
    "    train_idx=train_seeds, test_idx=test_seeds,\n",
    "    labels=labels.cpu().numpy(),\n",
    "    test_label=fraud_labels, name='RGCN_iforest')\n",
    "\n",
    "test_scores['rgcn_if'] = pred_rgcn_if\n",
    "\n",
    "#iforest+OHE\n",
    "_, _, _, _, _, _, _, _, iff_scores,_ = unsupervised_models(\n",
    "    train_x=train_data.drop(col_remove, axis=1), test_x=test_data.drop(col_remove, axis=1), \n",
    "    train_idx=train_data.index, test_idx=test_data.reset_index().index,\n",
    "    labels=test_data.fraud_label,\n",
    "    test_label=fraud_labels, name='iforest')\n",
    "\n",
    "test_scores['if_OHE'] = iff_scores"
   ]
  },
  {
   "cell_type": "code",
   "execution_count": 76,
   "id": "83f4e2be",
   "metadata": {},
   "outputs": [
    {
     "data": {
      "image/png": "[encoded data removed]",
      "text/plain": [
       "<Figure size 576x432 with 1 Axes>"
      ]
     },
     "metadata": {
      "needs_background": "light"
     },
     "output_type": "display_data"
    }
   ],
   "source": [
    "def roc_cr(fpr, tpr,  model_name='Model', color='darkorange'):\n",
    "    \n",
    "    lw = 2\n",
    "    roc_auc = roc_auc_score(fpr, tpr)\n",
    "    fpr, tpr, _ = roc_curve(fpr, tpr)\n",
    "    \n",
    "    plt.plot(fpr, tpr, color=color,\n",
    "             lw=lw, label=model_name+' ROC curve (area = %0.2f)' % roc_auc)\n",
    "    plt.plot([0, 1], [0, 1], color='navy', lw=lw, linestyle='--')\n",
    "    plt.xlim([0.0, 1.0])\n",
    "    plt.ylim([0.0, 1.05])\n",
    "    plt.xlabel('False Positive Rate')\n",
    "    plt.ylabel('True Positive Rate')\n",
    "    plt.legend(loc=\"lower right\")\n",
    "\n",
    "f = plt.figure(figsize=(8,6))\n",
    "roc_cr(test_scores.fraud_label, test_scores['rgcn'], model_name='RGCN')\n",
    "roc_cr(test_scores.fraud_label, test_scores['rgcn_if'], color='blue', model_name='RGCN_IF')\n",
    "roc_cr(test_scores.fraud_label, iff_scores, color='red', model_name='IF-OHE')\n",
    "roc_cr(test_scores.fraud_label, pred_xgb, color='green', model_name='XGB-OHE')"
   ]
  },
  {
   "cell_type": "markdown",
   "id": "22fa2930",
   "metadata": {},
   "source": [
    "In the simulated synthetic dataset, the anomalous authentications are due to the abnormal behavior of a single user. The proportion is a bit larger to resemble a typical authentication log. For a real azure-ad log we expect the attacker to behave in an indeterministic way, and the proportion of fraud relative to benign is quite small. \n",
    "\n",
    "Further, using the workflow we compare the models trained on an internal real azure-ad dataset of more than 45k events for training and 11k events for testing. The 'statusFlag' is used for training the mode and for testing known fraudulent events are used. Using these embeddings we compare the performance of RGCN based model against the baseline algorithm trained & tested on the authentication embedding. The following figure shows snapshot of AUC curve of the models."
   ]
  },
  {
   "cell_type": "markdown",
   "id": "5e149ed5-1b00-4ad7-8ec1-989e3e5eb1b6",
   "metadata": {},
   "source": [
    "\n"
   ]
  },
  {
   "cell_type": "markdown",
   "id": "c1ef623e-8ba2-46c2-af53-04d018ba5e42",
   "metadata": {},
   "source": [
    "![model comparison](model_comp.png)"
   ]
  },
  {
   "cell_type": "markdown",
   "id": "725c1185",
   "metadata": {},
   "source": [
    "In both dataset, we noticed the RGCN model is capturing important embedding information to identify the fraudulent login events compared to models trained using raw logs. It is noticable that the raw features (specially OHE) is little bit hard to work with the IForest or XGBoost, we think this could be the reason the baseline modesl performing badly compared to the RGCN type models."
   ]
  },
  {
   "cell_type": "markdown",
   "id": "67c6c402",
   "metadata": {
    "tags": []
   },
   "source": [
    "### Conclusion"
   ]
  },
  {
   "cell_type": "markdown",
   "id": "5cafe0fb",
   "metadata": {},
   "source": [
    "In this workflow, we showed end-to-end workflow for anomalous azure-ad authentication detection using RGCN.\n",
    "we explore methods of heterogeneous graph embedding for anomalous sign-on detection of azure logs. This work adds two main contributions. First, adapting log authentication as GNN, allows us to learn a richer embedding of authentication on both structural and individual entities involved without much hand-crafted feature learning. Second, by modeling every “authentication” as a target node, the model avoids the challenge of depending on modeling temporal historical user login information. The experimental result  shows, RGCN prediction scores on authentication nodes have a promising result on overall detection performance and are better than the baseline isolation forest & XGBoost algorithm on the raw and encoded features."
   ]
  },
  {
   "cell_type": "markdown",
   "id": "9eb226b8",
   "metadata": {},
   "source": [
    "### Reference\n",
    "1. https://docs.microsoft.com/en-us/azure/active-directory/reports-monitoring/concept-sign-ins\n",
    "2. Liu, Ziqi, et al. “Heterogeneous Graph Neural Networks for Malicious Account Detection.” arXiv [cs.LG], 27 Feb. 2020, https://doi.org/10.1145/3269206.3272010. arXiv.\n",
    "3. Lv, Mingqi, et al. “A Heterogeneous Graph Learning Model for Cyber-Attack Detection.” arXiv [cs.CR], 16 Dec. 2021, http://arxiv.org/abs/2112.08986. arXiv.\n",
    "4. Schlichtkrull, Michael, et al. \"Modeling relational data with graph convolutional networks.\" European semantic web conference. Springer, Cham, 2018 https://arxiv.org/abs/1703.06103\n",
    "5. Rao, Susie Xi, et al. \"xFraud: explainable fraud transaction detection.\" Proceedings of the VLDB Endowment 3 (2021) https://www.vldb.org/pvldb/vol15/p427-rao.pdf\n",
    "6. Powell, Brian A. \"Detecting malicious logins as graph anomalies.\" Journal of Information Security and Applications 54 (2020): 102557 https://arxiv.org/abs/1909.09047"
   ]
  },
  {
   "cell_type": "markdown",
   "id": "821efdd3",
   "metadata": {},
   "source": []
  }
 ],
 "metadata": {
  "kernelspec": {
   "display_name": "Python 3 (ipykernel)",
   "language": "python",
   "name": "python3"
  },
  "language_info": {
   "codemirror_mode": {
    "name": "ipython",
    "version": 3
   },
   "file_extension": ".py",
   "mimetype": "text/x-python",
   "name": "python",
   "nbconvert_exporter": "python",
   "pygments_lexer": "ipython3",
   "version": "3.8.10"
  },
  "vscode": {
   "interpreter": {
    "hash": "f708a36acfaef0acf74ccd43dfb58100269bf08fb79032a1e0a6f35bd9856f51"
   }
  }
 },
 "nbformat": 4,
 "nbformat_minor": 5
}
