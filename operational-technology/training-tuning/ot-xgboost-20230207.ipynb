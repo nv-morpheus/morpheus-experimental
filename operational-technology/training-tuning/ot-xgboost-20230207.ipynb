{
 "cells": [
  {
   "cell_type": "markdown",
   "id": "be094c9a-14e1-4cc2-9083-0f4133c85bfd",
   "metadata": {},
   "source": [
    "# Industrial Control System (ICS) Cyber Attack Detection"
   ]
  },
  {
   "cell_type": "markdown",
   "id": "756fbf5f-fe1b-4221-857c-7ac35daf9cab",
   "metadata": {},
   "source": [
    "### Contents\n",
    "* Introduction\n",
    "* Dataset\n",
    "* Model Training & Evaluation\n",
    "* Conclusion\n",
    "* References"
   ]
  },
  {
   "cell_type": "markdown",
   "id": "69c99b8d-7a3b-41b4-8dd5-ccfcdbf4e4a6",
   "metadata": {
    "tags": []
   },
   "source": [
    "# Introduction\n",
    "\n",
    "An industrial control system (ICS) is an electronic control system and the associated instrumentation used for controlling and monitoring automated processes. ICSs are used in most industrial sectors, including critical infrastructure in energy, manufacturing, transportation, and water treatment. These systems are frequently the targets of cyber attacks. When monitoring the ICS, it can be challenging to distinguish between an attack and a natural fault resulting from the system components' regular behaviour or maintenance. We overcome this challenge by leveraging machine learning to create a multi-class classifier that distinguishes between attacks, regular operation and natural faults. This can aid in detecting and responding to any potential threats, as well as maintaining the system's proper functioning. Additionally, understanding the differences between these three states can help prevent future incidents; organizations can create more effective security measures and respond better to potential threats.\n"
   ]
  },
  {
   "cell_type": "markdown",
   "id": "8ec301ca-55bb-4676-bc40-cd083b99e84a",
   "metadata": {},
   "source": [
    "# Dataset"
   ]
  },
  {
   "cell_type": "markdown",
   "id": "45e2d2bf-45aa-4493-8b61-9c0df06c5e42",
   "metadata": {
    "tags": []
   },
   "source": [
    "\n",
    "This dataset contains data related to electric transmission system behaviour, including measurements of synchrophasors and data logs from relays. This dataset can be used to understand the differences between normal operation, disturbances, control, and cyber attack behaviours. \n",
    "\n",
    "You can see a small sample of the data below.\n",
    "\n",
    "More information on the dataset can be found at\n",
    "\n",
    "* http://www.ece.uah.edu/~thm0009/icsdatasets/PowerSystem_Dataset_README.pdf\n",
    "* https://sites.google.com/a/uah.edu/tommy-morris-uah/ics-data-sets"
   ]
  },
  {
   "cell_type": "markdown",
   "id": "1a1d8011-2f33-42f1-b4eb-63b6cbf32001",
   "metadata": {},
   "source": [
    "Importing the necessary libraries"
   ]
  },
  {
   "cell_type": "code",
   "execution_count": 1,
   "id": "57fc24b0-f882-474c-8ff8-1f1faa48ccd3",
   "metadata": {
    "tags": []
   },
   "outputs": [],
   "source": [
    "import glob\n",
    "import requests\n",
    "import os.path\n",
    "import pickle\n",
    "import cudf\n",
    "import numpy as np\n",
    "import pandas as pd\n",
    "from xgboost import XGBClassifier\n",
    "from sklearn.model_selection import train_test_split\n",
    "from sklearn.metrics import make_scorer, f1_score, confusion_matrix"
   ]
  },
  {
   "cell_type": "markdown",
   "id": "68fea594-bdb9-4b20-a061-2a476c11afc8",
   "metadata": {},
   "source": [
    "Downloading the dataset:"
   ]
  },
  {
   "cell_type": "code",
   "execution_count": 2,
   "id": "002055f8-9779-49fc-a404-19cbea24c0ea",
   "metadata": {},
   "outputs": [],
   "source": [
    "if not os.path.isfile(\"triple.7z\"):\n",
    "\n",
    "    URL = \"http://www.ece.uah.edu/~thm0009/icsdatasets/triple.7z\"\n",
    "    response = requests.get(URL)\n",
    "    open(\"triple.7z\", \"wb\").write(response.content)"
   ]
  },
  {
   "cell_type": "markdown",
   "id": "48f47ca5-f79a-4c96-b333-5f520e2b0679",
   "metadata": {},
   "source": [
    "Checking the hash:"
   ]
  },
  {
   "cell_type": "code",
   "execution_count": 3,
   "id": "ff6a5c86-ea19-49a0-9c55-725b05504c4e",
   "metadata": {},
   "outputs": [
    {
     "name": "stdout",
     "output_type": "stream",
     "text": [
      "2b4ae3dc094bb472f6b9f312c4afc3f0  triple.7z\n"
     ]
    }
   ],
   "source": [
    "!md5sum triple.7z"
   ]
  },
  {
   "cell_type": "markdown",
   "id": "05996d1e-fa56-4ea6-bf01-bb3a35973ed5",
   "metadata": {},
   "source": [
    "When this file(triple.7z) was downloaded on 25 Jan 2023 md5 Checksum was \"2b4ae3dc094bb472f6b9f312c4afc3f0\""
   ]
  },
  {
   "cell_type": "code",
   "execution_count": 4,
   "id": "32a46e2a-2752-4feb-9ac7-2c92cf8c6486",
   "metadata": {},
   "outputs": [
    {
     "name": "stdout",
     "output_type": "stream",
     "text": [
      "\n",
      "7-Zip (a) [64] 16.02 : Copyright (c) 1999-2016 Igor Pavlov : 2016-05-21\n",
      "p7zip Version 16.02 (locale=C.UTF-8,Utf16=on,HugeFiles=on,64 bits,80 CPUs Intel(R) Xeon(R) CPU E5-2698 v4 @ 2.20GHz (406F1),ASM,AES-NI)\n",
      "\n",
      "Scanning the drive for archives:\n",
      "  0M Sca        1 file, 19701721 bytes (19 MiB)\n",
      "\n",
      "Extracting archive: triple.7z\n",
      "--\n",
      "Path = triple.7z\n",
      "Type = 7z\n",
      "Physical Size = 19701721\n",
      "Headers Size = 400\n",
      "Method = LZMA:26\n",
      "Solid = +\n",
      "Blocks = 1\n",
      "\n",
      "     20% 2 - data11.cs                   36% 6 - data15.cs                   57% 9 - data4.c                 79% 12 - data7.cs                  Everything is Ok\n",
      "\n",
      "Files: 15\n",
      "Size:       81668321\n",
      "Compressed: 19701721\n"
     ]
    }
   ],
   "source": [
    "if not os.path.isfile(\"data1.csv\"):\n",
    "    !p7zip -k -d triple.7z"
   ]
  },
  {
   "cell_type": "markdown",
   "id": "8542e82f-9504-4671-b83e-39b1aafa4e29",
   "metadata": {},
   "source": [
    "Combining files into one:"
   ]
  },
  {
   "cell_type": "code",
   "execution_count": 5,
   "id": "18e22947-c3d6-4012-b58b-3a01b85afaa4",
   "metadata": {},
   "outputs": [],
   "source": [
    "if not os.path.isfile(\"3class.csv\"):\n",
    "    all_files = glob.glob(os.path.join(\"*.csv\"))\n",
    "    if not os.path.isfile(\"data1.csv\"):\n",
    "        time.sleep(3)\n",
    "\n",
    "    dflist=[]\n",
    "    for i in all_files:\n",
    "        dflist.append(pd.read_csv(i))\n",
    "    df = pd.concat(dflist)\n",
    "    df.reset_index(drop=True, inplace=True)\n",
    "    df.to_csv(\"3class.csv\", index=False)\n",
    "else:\n",
    "    df=pd.read_csv(\"3class.csv\")"
   ]
  },
  {
   "cell_type": "markdown",
   "id": "47e88d68-93d2-4028-89a5-cb9d4726735c",
   "metadata": {},
   "source": [
    "A sample from the dataset"
   ]
  },
  {
   "cell_type": "code",
   "execution_count": 6,
   "id": "80282c4a-79ee-401d-910a-11a98068f04b",
   "metadata": {},
   "outputs": [
    {
     "data": {
      "text/plain": [
       "78377"
      ]
     },
     "execution_count": 6,
     "metadata": {},
     "output_type": "execute_result"
    }
   ],
   "source": [
    "len(df)"
   ]
  },
  {
   "cell_type": "code",
   "execution_count": 7,
   "id": "e60a3db7-bf3e-42d7-881a-939c3972d48a",
   "metadata": {},
   "outputs": [
    {
     "data": {
      "text/html": [
       "<div>\n",
       "<style scoped>\n",
       "    .dataframe tbody tr th:only-of-type {\n",
       "        vertical-align: middle;\n",
       "    }\n",
       "\n",
       "    .dataframe tbody tr th {\n",
       "        vertical-align: top;\n",
       "    }\n",
       "\n",
       "    .dataframe thead th {\n",
       "        text-align: right;\n",
       "    }\n",
       "</style>\n",
       "<table border=\"1\" class=\"dataframe\">\n",
       "  <thead>\n",
       "    <tr style=\"text-align: right;\">\n",
       "      <th></th>\n",
       "      <th>R1-PA1:VH</th>\n",
       "      <th>R1-PM1:V</th>\n",
       "      <th>R1-PA2:VH</th>\n",
       "      <th>R1-PM2:V</th>\n",
       "      <th>R1-PA3:VH</th>\n",
       "      <th>R1-PM3:V</th>\n",
       "      <th>R1-PA4:IH</th>\n",
       "      <th>R1-PM4:I</th>\n",
       "      <th>R1-PA5:IH</th>\n",
       "      <th>R1-PM5:I</th>\n",
       "      <th>...</th>\n",
       "      <th>control_panel_log4</th>\n",
       "      <th>relay1_log</th>\n",
       "      <th>relay2_log</th>\n",
       "      <th>relay3_log</th>\n",
       "      <th>relay4_log</th>\n",
       "      <th>snort_log1</th>\n",
       "      <th>snort_log2</th>\n",
       "      <th>snort_log3</th>\n",
       "      <th>snort_log4</th>\n",
       "      <th>marker</th>\n",
       "    </tr>\n",
       "  </thead>\n",
       "  <tbody>\n",
       "    <tr>\n",
       "      <th>0</th>\n",
       "      <td>129.047284</td>\n",
       "      <td>133139.0637</td>\n",
       "      <td>9.069922</td>\n",
       "      <td>133113.9904</td>\n",
       "      <td>-110.907440</td>\n",
       "      <td>133214.2835</td>\n",
       "      <td>129.522839</td>\n",
       "      <td>477.18466</td>\n",
       "      <td>4.262806</td>\n",
       "      <td>509.59513</td>\n",
       "      <td>...</td>\n",
       "      <td>0</td>\n",
       "      <td>0</td>\n",
       "      <td>0</td>\n",
       "      <td>0</td>\n",
       "      <td>0</td>\n",
       "      <td>0</td>\n",
       "      <td>0</td>\n",
       "      <td>0</td>\n",
       "      <td>0</td>\n",
       "      <td>NoEvents</td>\n",
       "    </tr>\n",
       "    <tr>\n",
       "      <th>1</th>\n",
       "      <td>128.949881</td>\n",
       "      <td>133063.8439</td>\n",
       "      <td>8.978249</td>\n",
       "      <td>133013.6974</td>\n",
       "      <td>-111.016302</td>\n",
       "      <td>133088.9172</td>\n",
       "      <td>129.368141</td>\n",
       "      <td>477.91710</td>\n",
       "      <td>4.125296</td>\n",
       "      <td>510.32757</td>\n",
       "      <td>...</td>\n",
       "      <td>0</td>\n",
       "      <td>0</td>\n",
       "      <td>0</td>\n",
       "      <td>0</td>\n",
       "      <td>0</td>\n",
       "      <td>0</td>\n",
       "      <td>0</td>\n",
       "      <td>0</td>\n",
       "      <td>0</td>\n",
       "      <td>NoEvents</td>\n",
       "    </tr>\n",
       "    <tr>\n",
       "      <th>2</th>\n",
       "      <td>128.222225</td>\n",
       "      <td>132336.7191</td>\n",
       "      <td>8.262051</td>\n",
       "      <td>132286.5725</td>\n",
       "      <td>-111.749688</td>\n",
       "      <td>132386.8656</td>\n",
       "      <td>128.382653</td>\n",
       "      <td>482.12863</td>\n",
       "      <td>3.265859</td>\n",
       "      <td>512.70800</td>\n",
       "      <td>...</td>\n",
       "      <td>0</td>\n",
       "      <td>0</td>\n",
       "      <td>0</td>\n",
       "      <td>0</td>\n",
       "      <td>0</td>\n",
       "      <td>0</td>\n",
       "      <td>0</td>\n",
       "      <td>0</td>\n",
       "      <td>0</td>\n",
       "      <td>NoEvents</td>\n",
       "    </tr>\n",
       "    <tr>\n",
       "      <th>3</th>\n",
       "      <td>123.850557</td>\n",
       "      <td>129202.5603</td>\n",
       "      <td>3.867465</td>\n",
       "      <td>129152.4138</td>\n",
       "      <td>-116.132816</td>\n",
       "      <td>129277.7801</td>\n",
       "      <td>121.965526</td>\n",
       "      <td>505.74982</td>\n",
       "      <td>-1.249048</td>\n",
       "      <td>525.52570</td>\n",
       "      <td>...</td>\n",
       "      <td>0</td>\n",
       "      <td>0</td>\n",
       "      <td>0</td>\n",
       "      <td>0</td>\n",
       "      <td>0</td>\n",
       "      <td>0</td>\n",
       "      <td>0</td>\n",
       "      <td>0</td>\n",
       "      <td>0</td>\n",
       "      <td>NoEvents</td>\n",
       "    </tr>\n",
       "    <tr>\n",
       "      <th>4</th>\n",
       "      <td>128.594648</td>\n",
       "      <td>132236.4260</td>\n",
       "      <td>8.623015</td>\n",
       "      <td>132186.2794</td>\n",
       "      <td>-111.354348</td>\n",
       "      <td>132261.4993</td>\n",
       "      <td>132.364710</td>\n",
       "      <td>276.86232</td>\n",
       "      <td>8.829280</td>\n",
       "      <td>289.13069</td>\n",
       "      <td>...</td>\n",
       "      <td>0</td>\n",
       "      <td>0</td>\n",
       "      <td>0</td>\n",
       "      <td>0</td>\n",
       "      <td>0</td>\n",
       "      <td>0</td>\n",
       "      <td>0</td>\n",
       "      <td>0</td>\n",
       "      <td>0</td>\n",
       "      <td>NoEvents</td>\n",
       "    </tr>\n",
       "  </tbody>\n",
       "</table>\n",
       "<p>5 rows × 129 columns</p>\n",
       "</div>"
      ],
      "text/plain": [
       "    R1-PA1:VH     R1-PM1:V  R1-PA2:VH     R1-PM2:V   R1-PA3:VH     R1-PM3:V  \\\n",
       "0  129.047284  133139.0637   9.069922  133113.9904 -110.907440  133214.2835   \n",
       "1  128.949881  133063.8439   8.978249  133013.6974 -111.016302  133088.9172   \n",
       "2  128.222225  132336.7191   8.262051  132286.5725 -111.749688  132386.8656   \n",
       "3  123.850557  129202.5603   3.867465  129152.4138 -116.132816  129277.7801   \n",
       "4  128.594648  132236.4260   8.623015  132186.2794 -111.354348  132261.4993   \n",
       "\n",
       "    R1-PA4:IH   R1-PM4:I  R1-PA5:IH   R1-PM5:I  ...  control_panel_log4  \\\n",
       "0  129.522839  477.18466   4.262806  509.59513  ...                   0   \n",
       "1  129.368141  477.91710   4.125296  510.32757  ...                   0   \n",
       "2  128.382653  482.12863   3.265859  512.70800  ...                   0   \n",
       "3  121.965526  505.74982  -1.249048  525.52570  ...                   0   \n",
       "4  132.364710  276.86232   8.829280  289.13069  ...                   0   \n",
       "\n",
       "   relay1_log  relay2_log  relay3_log  relay4_log  snort_log1  snort_log2  \\\n",
       "0           0           0           0           0           0           0   \n",
       "1           0           0           0           0           0           0   \n",
       "2           0           0           0           0           0           0   \n",
       "3           0           0           0           0           0           0   \n",
       "4           0           0           0           0           0           0   \n",
       "\n",
       "   snort_log3  snort_log4    marker  \n",
       "0           0           0  NoEvents  \n",
       "1           0           0  NoEvents  \n",
       "2           0           0  NoEvents  \n",
       "3           0           0  NoEvents  \n",
       "4           0           0  NoEvents  \n",
       "\n",
       "[5 rows x 129 columns]"
      ]
     },
     "execution_count": 7,
     "metadata": {},
     "output_type": "execute_result"
    }
   ],
   "source": [
    "df.head(5)"
   ]
  },
  {
   "cell_type": "markdown",
   "id": "8baee524-d6c6-43e5-bb33-28e58b7429e2",
   "metadata": {},
   "source": [
    "The label column name in the dataset is \"marker\"."
   ]
  },
  {
   "cell_type": "code",
   "execution_count": 8,
   "id": "829415a0-4cd4-4637-a286-3c11cb785010",
   "metadata": {},
   "outputs": [
    {
     "data": {
      "text/plain": [
       "array(['NoEvents', 'Attack', 'Natural'], dtype=object)"
      ]
     },
     "execution_count": 8,
     "metadata": {},
     "output_type": "execute_result"
    }
   ],
   "source": [
    "df.marker.unique()"
   ]
  },
  {
   "cell_type": "code",
   "execution_count": 9,
   "id": "bc40a8e7-ba44-411a-9fd4-cdc3f2874759",
   "metadata": {},
   "outputs": [
    {
     "data": {
      "text/plain": [
       "Attack      55663\n",
       "Natural     18309\n",
       "NoEvents     4405\n",
       "Name: marker, dtype: int64"
      ]
     },
     "execution_count": 9,
     "metadata": {},
     "output_type": "execute_result"
    }
   ],
   "source": [
    "df[\"marker\"].value_counts()"
   ]
  },
  {
   "cell_type": "markdown",
   "id": "b33aaf62-5b3f-4304-a86d-9f4ebb66803c",
   "metadata": {},
   "source": [
    "The dataset is imbalanced. So, we will choose performance metrics accordingly."
   ]
  },
  {
   "cell_type": "markdown",
   "id": "5ab5972f-d1cb-4e1f-858f-6bb0234e0a3b",
   "metadata": {},
   "source": [
    "List the column names in the dataset:"
   ]
  },
  {
   "cell_type": "code",
   "execution_count": 10,
   "id": "96d9d60d-9a70-44ad-bc30-f9158c1bf407",
   "metadata": {
    "tags": []
   },
   "outputs": [
    {
     "data": {
      "text/plain": [
       "['R1-PA1:VH',\n",
       " 'R1-PM1:V',\n",
       " 'R1-PA2:VH',\n",
       " 'R1-PM2:V',\n",
       " 'R1-PA3:VH',\n",
       " 'R1-PM3:V',\n",
       " 'R1-PA4:IH',\n",
       " 'R1-PM4:I',\n",
       " 'R1-PA5:IH',\n",
       " 'R1-PM5:I',\n",
       " 'R1-PA6:IH',\n",
       " 'R1-PM6:I',\n",
       " 'R1-PA7:VH',\n",
       " 'R1-PM7:V',\n",
       " 'R1-PA8:VH',\n",
       " 'R1-PM8:V',\n",
       " 'R1-PA9:VH',\n",
       " 'R1-PM9:V',\n",
       " 'R1-PA10:IH',\n",
       " 'R1-PM10:I',\n",
       " 'R1-PA11:IH',\n",
       " 'R1-PM11:I',\n",
       " 'R1-PA12:IH',\n",
       " 'R1-PM12:I',\n",
       " 'R1:F',\n",
       " 'R1:DF',\n",
       " 'R1-PA:Z',\n",
       " 'R1-PA:ZH',\n",
       " 'R1:S',\n",
       " 'R2-PA1:VH',\n",
       " 'R2-PM1:V',\n",
       " 'R2-PA2:VH',\n",
       " 'R2-PM2:V',\n",
       " 'R2-PA3:VH',\n",
       " 'R2-PM3:V',\n",
       " 'R2-PA4:IH',\n",
       " 'R2-PM4:I',\n",
       " 'R2-PA5:IH',\n",
       " 'R2-PM5:I',\n",
       " 'R2-PA6:IH',\n",
       " 'R2-PM6:I',\n",
       " 'R2-PA7:VH',\n",
       " 'R2-PM7:V',\n",
       " 'R2-PA8:VH',\n",
       " 'R2-PM8:V',\n",
       " 'R2-PA9:VH',\n",
       " 'R2-PM9:V',\n",
       " 'R2-PA10:IH',\n",
       " 'R2-PM10:I',\n",
       " 'R2-PA11:IH',\n",
       " 'R2-PM11:I',\n",
       " 'R2-PA12:IH',\n",
       " 'R2-PM12:I',\n",
       " 'R2:F',\n",
       " 'R2:DF',\n",
       " 'R2-PA:Z',\n",
       " 'R2-PA:ZH',\n",
       " 'R2:S',\n",
       " 'R3-PA1:VH',\n",
       " 'R3-PM1:V',\n",
       " 'R3-PA2:VH',\n",
       " 'R3-PM2:V',\n",
       " 'R3-PA3:VH',\n",
       " 'R3-PM3:V',\n",
       " 'R3-PA4:IH',\n",
       " 'R3-PM4:I',\n",
       " 'R3-PA5:IH',\n",
       " 'R3-PM5:I',\n",
       " 'R3-PA6:IH',\n",
       " 'R3-PM6:I',\n",
       " 'R3-PA7:VH',\n",
       " 'R3-PM7:V',\n",
       " 'R3-PA8:VH',\n",
       " 'R3-PM8:V',\n",
       " 'R3-PA9:VH',\n",
       " 'R3-PM9:V',\n",
       " 'R3-PA10:IH',\n",
       " 'R3-PM10:I',\n",
       " 'R3-PA11:IH',\n",
       " 'R3-PM11:I',\n",
       " 'R3-PA12:IH',\n",
       " 'R3-PM12:I',\n",
       " 'R3:F',\n",
       " 'R3:DF',\n",
       " 'R3-PA:Z',\n",
       " 'R3-PA:ZH',\n",
       " 'R3:S',\n",
       " 'R4-PA1:VH',\n",
       " 'R4-PM1:V',\n",
       " 'R4-PA2:VH',\n",
       " 'R4-PM2:V',\n",
       " 'R4-PA3:VH',\n",
       " 'R4-PM3:V',\n",
       " 'R4-PA4:IH',\n",
       " 'R4-PM4:I',\n",
       " 'R4-PA5:IH',\n",
       " 'R4-PM5:I',\n",
       " 'R4-PA6:IH',\n",
       " 'R4-PM6:I',\n",
       " 'R4-PA7:VH',\n",
       " 'R4-PM7:V',\n",
       " 'R4-PA8:VH',\n",
       " 'R4-PM8:V',\n",
       " 'R4-PA9:VH',\n",
       " 'R4-PM9:V',\n",
       " 'R4-PA10:IH',\n",
       " 'R4-PM10:I',\n",
       " 'R4-PA11:IH',\n",
       " 'R4-PM11:I',\n",
       " 'R4-PA12:IH',\n",
       " 'R4-PM12:I',\n",
       " 'R4:F',\n",
       " 'R4:DF',\n",
       " 'R4-PA:Z',\n",
       " 'R4-PA:ZH',\n",
       " 'R4:S',\n",
       " 'control_panel_log1',\n",
       " 'control_panel_log2',\n",
       " 'control_panel_log3',\n",
       " 'control_panel_log4',\n",
       " 'relay1_log',\n",
       " 'relay2_log',\n",
       " 'relay3_log',\n",
       " 'relay4_log',\n",
       " 'snort_log1',\n",
       " 'snort_log2',\n",
       " 'snort_log3',\n",
       " 'snort_log4',\n",
       " 'marker']"
      ]
     },
     "execution_count": 10,
     "metadata": {},
     "output_type": "execute_result"
    }
   ],
   "source": [
    "#Features and the label columns of the dataset\n",
    "list(df)"
   ]
  },
  {
   "cell_type": "markdown",
   "id": "295254f9-49b4-4d2e-b58d-f1f09b6af0ce",
   "metadata": {},
   "source": [
    "Replace infinite values in the dataset with nan values."
   ]
  },
  {
   "cell_type": "code",
   "execution_count": 11,
   "id": "3c1168aa-2097-44a9-a896-93733cdae7d8",
   "metadata": {},
   "outputs": [],
   "source": [
    "df.replace([np.inf, -np.inf], np.nan, inplace=True)"
   ]
  },
  {
   "cell_type": "markdown",
   "id": "83a19310-a4e3-4b19-96f1-379bff151875",
   "metadata": {},
   "source": [
    "Replace labels with numbers"
   ]
  },
  {
   "cell_type": "code",
   "execution_count": 12,
   "id": "b9ed8b34-bd66-484f-96fb-72138068b825",
   "metadata": {},
   "outputs": [],
   "source": [
    "df[\"marker\"] = df[\"marker\"].replace(\"NoEvents\", 0)\n",
    "df[\"marker\"] = df[\"marker\"].replace(\"Attack\", 1)\n",
    "df[\"marker\"] = df[\"marker\"].replace(\"Natural\", 2)"
   ]
  },
  {
   "cell_type": "code",
   "execution_count": 13,
   "id": "422766f8-ffca-4c80-9e61-0e27986bbec5",
   "metadata": {},
   "outputs": [
    {
     "data": {
      "text/plain": [
       "array([0, 1, 2])"
      ]
     },
     "execution_count": 13,
     "metadata": {},
     "output_type": "execute_result"
    }
   ],
   "source": [
    "df[\"marker\"].unique()"
   ]
  },
  {
   "cell_type": "markdown",
   "id": "45ec2b11-ddbd-4ebb-b780-e80af96960d9",
   "metadata": {},
   "source": [
    "Replace the nan values with the median of each column."
   ]
  },
  {
   "cell_type": "code",
   "execution_count": 14,
   "id": "58cd0657-12fa-4abb-b332-f1761da04f73",
   "metadata": {},
   "outputs": [],
   "source": [
    "df = df.fillna(df.median())"
   ]
  },
  {
   "cell_type": "markdown",
   "id": "6013f15a-f4dc-4cf5-a274-250b9622f893",
   "metadata": {},
   "source": [
    "Create dataframes for input and labels."
   ]
  },
  {
   "cell_type": "code",
   "execution_count": 15,
   "id": "91c006b9-992d-4aad-83ea-6201b5429250",
   "metadata": {},
   "outputs": [],
   "source": [
    "X = df.iloc[:, :-1]\n",
    "y = df.iloc[:, -1]\n",
    "X = cudf.from_pandas(X)\n",
    "y = cudf.from_pandas(y)"
   ]
  },
  {
   "cell_type": "markdown",
   "id": "b3d792fb-06ff-473d-8e1a-8e033d4572e9",
   "metadata": {},
   "source": [
    "Create train and test sets:"
   ]
  },
  {
   "cell_type": "code",
   "execution_count": 16,
   "id": "bf2c95e3-2cbe-4f9f-baee-87a2a8adfe19",
   "metadata": {},
   "outputs": [],
   "source": [
    "X_train, X_test, y_train, y_test = train_test_split(X, y, random_state=0)"
   ]
  },
  {
   "cell_type": "markdown",
   "id": "559fcc9a-f70f-4ddb-8665-2054b8bb0c2e",
   "metadata": {},
   "source": [
    "# Model Training and Evaluation"
   ]
  },
  {
   "cell_type": "markdown",
   "id": "fe3edeeb-537c-414b-9052-e0aaaae05d34",
   "metadata": {},
   "source": [
    "### Create an XGBOOST classifier to distinguish cyber attacks and natural faults"
   ]
  },
  {
   "cell_type": "markdown",
   "id": "11362980-ec07-405b-82a7-bba483173a61",
   "metadata": {},
   "source": [
    "XGBoost refers to Extreme Gradient Boosting, a highly optimized and scalable version of the gradient boosting algorithm for machine learning. It is suitable for most tabular data in supervised learning. The training process involves using a part of the data to teach the model to recognize patterns and behaviours. The remaining data is then used to evaluate the accuracy of the model's predictions."
   ]
  },
  {
   "cell_type": "code",
   "execution_count": 17,
   "id": "7e1187cb-63ce-4e39-bc50-29e881d495ca",
   "metadata": {},
   "outputs": [],
   "source": [
    "xgb_clf = XGBClassifier(n_estimators=1000)"
   ]
  },
  {
   "cell_type": "code",
   "execution_count": 18,
   "id": "df471030-6b66-48d7-a670-6d643ea0a812",
   "metadata": {},
   "outputs": [],
   "source": [
    "xgb_clf = xgb_clf.fit(X_train, y_train)"
   ]
  },
  {
   "cell_type": "markdown",
   "id": "898bc03a-d6cf-4e18-8fa1-a686d70d2395",
   "metadata": {},
   "source": [
    "We will test the model against a part of the dataset that wasn't seen in the training."
   ]
  },
  {
   "cell_type": "code",
   "execution_count": 19,
   "id": "e628e57a-618d-4b60-b7d9-b61a8427bc10",
   "metadata": {},
   "outputs": [],
   "source": [
    "y_pred = xgb_clf.predict(X_test)"
   ]
  },
  {
   "cell_type": "markdown",
   "id": "cd2e4d80-68b0-4177-806e-2abd52092442",
   "metadata": {},
   "source": [
    "The dataset is imbalanced, so we will use check different F1 scores and a confusion matrix"
   ]
  },
  {
   "cell_type": "code",
   "execution_count": 20,
   "id": "d984b078-4324-4b0f-ac9d-d60aadaadefe",
   "metadata": {},
   "outputs": [
    {
     "name": "stdout",
     "output_type": "stream",
     "text": [
      "The F1 score for No Events label is 0.9668746999519926\n",
      "The F1 score for Attack label is 0.9435565305198648\n",
      "The F1 score for Natural label is 0.8130662851692895\n",
      "\n",
      "The micro F1 score is: 0.9168665475886706\n",
      "The weighted F1 score is: 0.9142174482444869\n",
      "The macro F1 score is: 0.9078325052137156\n",
      "\n",
      "Confusion Matrix\n",
      "[[ 1007    52     6]\n",
      " [    9 13549   376]\n",
      " [    2  1184  3410]]\n"
     ]
    }
   ],
   "source": [
    "print(\"The F1 score for No Events label is\",f1_score(y_test.to_numpy(), y_pred ,labels=[0], average=\"weighted\"))\n",
    "print(\"The F1 score for Attack label is\",f1_score(y_test.to_numpy(), y_pred ,labels=[1], average=\"weighted\"))\n",
    "print(\"The F1 score for Natural label is\",f1_score(y_test.to_numpy(), y_pred ,labels=[2], average=\"weighted\"))\n",
    "print(\"\\nThe micro F1 score is:\", f1_score(y_test.to_numpy(), y_pred ,average=\"micro\"))\n",
    "print(\"The weighted F1 score is:\", f1_score(y_test.to_numpy(), y_pred ,average=\"weighted\"))\n",
    "print(\"The macro F1 score is:\", f1_score(y_test.to_numpy(), y_pred ,average=\"macro\"))\n",
    "print(\"\\nConfusion Matrix\")\n",
    "print(confusion_matrix(y_test.to_numpy(), y_pred))"
   ]
  },
  {
   "cell_type": "markdown",
   "id": "6dd9e92d-40a6-4f0c-aefd-5f1301eee416",
   "metadata": {},
   "source": [
    "A model can be saved as :"
   ]
  },
  {
   "cell_type": "code",
   "execution_count": 21,
   "id": "bd39a6d3-9624-4fc9-b808-ec96227e45a9",
   "metadata": {
    "tags": []
   },
   "outputs": [],
   "source": [
    "# Save the model to a file\n",
    "with open(\"../models/\"+\"ot-xgboost-20230207.pkl\", \"wb\") as file:\n",
    "    pickle.dump(xgb_clf, file)"
   ]
  },
  {
   "cell_type": "markdown",
   "id": "3fa74047-2831-4590-a366-bddca417cc77",
   "metadata": {},
   "source": [
    "# Conclusion"
   ]
  },
  {
   "cell_type": "markdown",
   "id": "a286796f-6c82-43d5-917b-45a9940ce95d",
   "metadata": {},
   "source": [
    "The model was able to achieve an F1 score greater than 0.91 on the test set, indicating its ability to distinguish between regular operations, disturbances, and cyber attack behaviours to a significant extent. This is a crucial outcome in enhancing security measures and comprehending the behaviour of electric transmission systems. The performance of the model encourages the possibility of reducing the amount of manual analysis in the event of an occurrence, and potentially allowing for near real-time detection, with further improvements."
   ]
  },
  {
   "cell_type": "markdown",
   "id": "c1f354cc-ec11-4724-96aa-92a1196bc89e",
   "metadata": {},
   "source": [
    "## References"
   ]
  },
  {
   "cell_type": "markdown",
   "id": "7f71552b-8668-4af5-a624-14db2d504e71",
   "metadata": {},
   "source": [
    "* http://www.ece.uah.edu/~thm0009/icsdatasets/PowerSystem_Dataset_README.pdf\n",
    "* https://sites.google.com/a/uah.edu/tommy-morris-uah/ics-data-sets\n"
   ]
  }
 ],
 "metadata": {
  "kernelspec": {
   "display_name": "Python 3 (ipykernel)",
   "language": "python",
   "name": "python3"
  },
  "language_info": {
   "codemirror_mode": {
    "name": "ipython",
    "version": 3
   },
   "file_extension": ".py",
   "mimetype": "text/x-python",
   "name": "python",
   "nbconvert_exporter": "python",
   "pygments_lexer": "ipython3",
   "version": "3.8.13"
  }
 },
 "nbformat": 4,
 "nbformat_minor": 5
}
