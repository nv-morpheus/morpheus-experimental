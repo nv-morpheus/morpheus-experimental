{
 "cells": [
  {
   "cell_type": "markdown",
   "metadata": {},
   "source": [
    "# Domain Generation Algorithm (DGA) Detection\n",
    "\n",
    "## Table of Contents\n",
    "* Introduction\n",
    "* Data Importing\n",
    "* Data Preprocessing\n",
    "* Training and Evaluation\n",
    "* Inference\n",
    "* Conclusion\n",
    "\n",
    "## Introduction\n",
    "[Domain Generation Algorithms](https://en.wikipedia.org/wiki/Domain_generation_algorithm) (DGAs) are used to generate domain names that can be used by the malware to communicate with the command and control servers. IP addresses and static domain names can be easily blocked, and a DGA provides an easy method to generate a large number of domain names and rotate through them to circumvent traditional block lists. We will use a type of recurrent neural network called the [Gated Recurrent Unit](https://towardsdatascience.com/illustrated-guide-to-lstms-and-gru-s-a-step-by-step-explanation-44e9eb85bf21) (GRU) for this example. This implementation enables users to train their models with up-to-date domain names representative of both benign and DGA generated strings. This capability could also be used in production. This notebook provides a view into the data science workflow to create a DGA detection implementation."
   ]
  },
  {
   "cell_type": "code",
   "execution_count": 1,
   "metadata": {
    "tags": []
   },
   "outputs": [],
   "source": [
    "import os\n",
    "import cudf\n",
    "import cupy as cp\n",
    "import torch\n",
    "import requests\n",
    "import logging\n",
    "import numpy as np\n",
    "from datetime import datetime\n",
    "from sklearn.metrics import accuracy_score, average_precision_score\n",
    "from dga_detector import DGADetector\n",
    "from dataloader import DataLoader\n",
    "from dga_dataset import DGADataset\n",
    "from utils import str2ascii\n",
    "from sklearn.model_selection import train_test_split"
   ]
  },
  {
   "cell_type": "markdown",
   "metadata": {},
   "source": [
    "#### Enable console logging"
   ]
  },
  {
   "cell_type": "code",
   "execution_count": 2,
   "metadata": {
    "tags": []
   },
   "outputs": [],
   "source": [
    "logging.basicConfig(\n",
    "    level=logging.INFO,\n",
    "    format=\"%(asctime)s [%(levelname)s] %(message)s\",\n",
    "    handlers=[\n",
    "        logging.StreamHandler()\n",
    "    ]\n",
    ")"
   ]
  },
  {
   "cell_type": "markdown",
   "metadata": {},
   "source": [
    "#### Load Input Dataset to GPU Dataframe"
   ]
  },
  {
   "cell_type": "code",
   "execution_count": 3,
   "metadata": {},
   "outputs": [],
   "source": [
    "INPUT_CSV = \"../datasets/dga-training-data.csv\""
   ]
  },
  {
   "cell_type": "code",
   "execution_count": 4,
   "metadata": {
    "tags": []
   },
   "outputs": [],
   "source": [
    "gdf = cudf.read_csv(INPUT_CSV)"
   ]
  },
  {
   "cell_type": "code",
   "execution_count": 5,
   "metadata": {},
   "outputs": [],
   "source": [
    "train_data = gdf['domain']\n",
    "labels = gdf['type']"
   ]
  },
  {
   "cell_type": "markdown",
   "metadata": {},
   "source": [
    "Because we have only benign and DGA (malicious) categoriesm, the number of domain types need to be set to 2 (`N_DOMAIN_TYPE=2`). Vocabulary size(`CHAR_VOCAB`) is set to 128 ASCII characters. The values below set for `HIDDEN_SIZE`, `N_LAYERS` of the network, and the `LR` (Learning Rate) give an optimum balance for the network size and performance. They might need be set via experiments when working with other datasets."
   ]
  },
  {
   "cell_type": "code",
   "execution_count": 6,
   "metadata": {
    "tags": []
   },
   "outputs": [],
   "source": [
    "LR = 0.001\n",
    "N_LAYERS = 3\n",
    "CHAR_VOCAB = 128\n",
    "HIDDEN_SIZE = 100\n",
    "N_DOMAIN_TYPE = 2"
   ]
  },
  {
   "cell_type": "markdown",
   "metadata": {},
   "source": [
    "#### Instantiate DGA detector\n",
    "Now that the data is ready, the datasets are created, and we've set the parameters for the model, we can use the DGA detector method to create and train the model."
   ]
  },
  {
   "cell_type": "code",
   "execution_count": 7,
   "metadata": {
    "tags": []
   },
   "outputs": [
    {
     "name": "stderr",
     "output_type": "stream",
     "text": [
      "2023-05-26 17:33:29,023 [INFO] Found GPU's now setting up cuda for the model\n"
     ]
    }
   ],
   "source": [
    "dd = DGADetector(lr=LR)\n",
    "dd.init_model(n_layers=N_LAYERS, char_vocab=CHAR_VOCAB, hidden_size=HIDDEN_SIZE, n_domain_type=N_DOMAIN_TYPE)"
   ]
  },
  {
   "cell_type": "code",
   "execution_count": 8,
   "metadata": {
    "tags": []
   },
   "outputs": [],
   "source": [
    "EPOCHS = 25\n",
    "TRAIN_SIZE = 0.7\n",
    "BATCH_SIZE = 10000\n",
    "MODELS_DIR = 'models'"
   ]
  },
  {
   "cell_type": "markdown",
   "metadata": {},
   "source": [
    "### Training and Evaluation\n",
    "Now we train and evaluate the model."
   ]
  },
  {
   "cell_type": "code",
   "execution_count": 9,
   "metadata": {
    "tags": []
   },
   "outputs": [
    {
     "name": "stderr",
     "output_type": "stream",
     "text": [
      "2023-05-26 17:33:30,988 [INFO] Initiating model training ...\n",
      "2023-05-26 17:33:30,989 [INFO] Truncate domains to width: 100\n",
      "Epoch:   0%|          | 0/25 [00:00<?, ?it/s]2023-05-26 17:33:37,492 [INFO] [100000/151642 (66%)]\tLoss: 5074.05\n",
      "2023-05-26 17:33:38,328 [INFO] Evaluating trained model ...\n",
      "2023-05-26 17:33:38,660 [INFO] Test set accuracy: 46101/64990 (0.7093552854285274)\n",
      "\n",
      "Epoch:   4%|▍         | 1/25 [00:03<01:22,  3.44s/it]2023-05-26 17:33:40,603 [INFO] [100000/151642 (66%)]\tLoss: 3159.37\n",
      "2023-05-26 17:33:41,508 [INFO] Evaluating trained model ...\n",
      "2023-05-26 17:33:41,837 [INFO] Test set accuracy: 58386/64990 (0.8983843668256655)\n",
      "\n",
      "Epoch:   8%|▊         | 2/25 [00:06<01:15,  3.29s/it]2023-05-26 17:33:43,761 [INFO] [100000/151642 (66%)]\tLoss: 1999.72\n",
      "2023-05-26 17:33:44,594 [INFO] Evaluating trained model ...\n",
      "2023-05-26 17:33:44,921 [INFO] Test set accuracy: 62266/64990 (0.958085859362979)\n",
      "\n",
      "Epoch:  12%|█▏        | 3/25 [00:09<01:10,  3.19s/it]2023-05-26 17:33:46,843 [INFO] [100000/151642 (66%)]\tLoss: 1068.30\n",
      "2023-05-26 17:33:47,667 [INFO] Evaluating trained model ...\n",
      "2023-05-26 17:33:47,997 [INFO] Test set accuracy: 63934/64990 (0.9837513463609786)\n",
      "\n",
      "Epoch:  16%|█▌        | 4/25 [00:12<01:06,  3.15s/it]2023-05-26 17:33:49,992 [INFO] [100000/151642 (66%)]\tLoss: 445.45\n",
      "2023-05-26 17:33:50,880 [INFO] Evaluating trained model ...\n",
      "2023-05-26 17:33:51,232 [INFO] Test set accuracy: 64206/64990 (0.9879366056316357)\n",
      "\n",
      "Epoch:  20%|██        | 5/25 [00:16<01:03,  3.18s/it]2023-05-26 17:33:53,216 [INFO] [100000/151642 (66%)]\tLoss: 307.96\n",
      "2023-05-26 17:33:54,093 [INFO] Evaluating trained model ...\n",
      "2023-05-26 17:33:54,425 [INFO] Test set accuracy: 64401/64990 (0.990937067241114)\n",
      "\n",
      "Epoch:  24%|██▍       | 6/25 [00:19<01:00,  3.18s/it]2023-05-26 17:33:56,364 [INFO] [100000/151642 (66%)]\tLoss: 242.39\n",
      "2023-05-26 17:33:57,198 [INFO] Evaluating trained model ...\n",
      "2023-05-26 17:33:57,527 [INFO] Test set accuracy: 64532/64990 (0.992952761963379)\n",
      "\n",
      "Epoch:  28%|██▊       | 7/25 [00:22<00:56,  3.16s/it]2023-05-26 17:33:59,376 [INFO] [100000/151642 (66%)]\tLoss: 193.65\n",
      "2023-05-26 17:34:00,167 [INFO] Evaluating trained model ...\n",
      "2023-05-26 17:34:00,502 [INFO] Test set accuracy: 64608/64990 (0.9941221726419449)\n",
      "\n",
      "Epoch:  32%|███▏      | 8/25 [00:25<00:52,  3.10s/it]2023-05-26 17:34:02,465 [INFO] [100000/151642 (66%)]\tLoss: 157.92\n",
      "2023-05-26 17:34:03,301 [INFO] Evaluating trained model ...\n",
      "2023-05-26 17:34:03,737 [INFO] Test set accuracy: 64642/64990 (0.994645330050777)\n",
      "\n",
      "Epoch:  36%|███▌      | 9/25 [00:28<00:50,  3.14s/it]2023-05-26 17:34:05,700 [INFO] [100000/151642 (66%)]\tLoss: 132.30\n",
      "2023-05-26 17:34:06,500 [INFO] Evaluating trained model ...\n",
      "2023-05-26 17:34:06,840 [INFO] Test set accuracy: 64686/64990 (0.9953223572857363)\n",
      "\n",
      "Epoch:  40%|████      | 10/25 [00:31<00:46,  3.13s/it]2023-05-26 17:34:08,798 [INFO] [100000/151642 (66%)]\tLoss: 112.92\n",
      "2023-05-26 17:34:09,652 [INFO] Evaluating trained model ...\n",
      "2023-05-26 17:34:09,995 [INFO] Test set accuracy: 64719/64990 (0.9958301277119557)\n",
      "\n",
      "Epoch:  44%|████▍     | 11/25 [00:34<00:43,  3.14s/it]2023-05-26 17:34:11,900 [INFO] [100000/151642 (66%)]\tLoss: 97.24\n",
      "2023-05-26 17:34:12,751 [INFO] Evaluating trained model ...\n",
      "2023-05-26 17:34:13,100 [INFO] Test set accuracy: 64759/64990 (0.9964456070164641)\n",
      "\n",
      "Epoch:  48%|████▊     | 12/25 [00:37<00:40,  3.13s/it]2023-05-26 17:34:15,084 [INFO] [100000/151642 (66%)]\tLoss: 84.24\n",
      "2023-05-26 17:34:15,936 [INFO] Evaluating trained model ...\n",
      "2023-05-26 17:34:16,271 [INFO] Test set accuracy: 64784/64990 (0.9968302815817818)\n",
      "\n",
      "Epoch:  52%|█████▏    | 13/25 [00:41<00:37,  3.14s/it]2023-05-26 17:34:18,253 [INFO] [100000/151642 (66%)]\tLoss: 73.28\n",
      "2023-05-26 17:34:19,100 [INFO] Evaluating trained model ...\n",
      "2023-05-26 17:34:19,448 [INFO] Test set accuracy: 64807/64990 (0.9971841821818741)\n",
      "\n",
      "Epoch:  56%|█████▌    | 14/25 [00:44<00:34,  3.15s/it]2023-05-26 17:34:21,445 [INFO] [100000/151642 (66%)]\tLoss: 64.55\n",
      "2023-05-26 17:34:22,296 [INFO] Evaluating trained model ...\n",
      "2023-05-26 17:34:22,633 [INFO] Test set accuracy: 64829/64990 (0.9975226957993537)\n",
      "\n",
      "Epoch:  60%|██████    | 15/25 [00:47<00:31,  3.16s/it]2023-05-26 17:34:24,606 [INFO] [100000/151642 (66%)]\tLoss: 59.65\n",
      "2023-05-26 17:34:25,457 [INFO] Evaluating trained model ...\n",
      "2023-05-26 17:34:25,789 [INFO] Test set accuracy: 64835/64990 (0.99761501769503)\n",
      "\n",
      "Epoch:  64%|██████▍   | 16/25 [00:50<00:28,  3.16s/it]2023-05-26 17:34:27,772 [INFO] [100000/151642 (66%)]\tLoss: 58.46\n",
      "2023-05-26 17:34:28,664 [INFO] Evaluating trained model ...\n",
      "2023-05-26 17:34:28,997 [INFO] Test set accuracy: 64836/64990 (0.9976304046776427)\n",
      "\n",
      "Epoch:  68%|██████▊   | 17/25 [00:53<00:25,  3.17s/it]2023-05-26 17:34:31,022 [INFO] [100000/151642 (66%)]\tLoss: 54.38\n",
      "2023-05-26 17:34:31,890 [INFO] Evaluating trained model ...\n",
      "2023-05-26 17:34:32,238 [INFO] Test set accuracy: 64840/64990 (0.9976919526080935)\n",
      "\n",
      "Epoch:  72%|███████▏  | 18/25 [00:57<00:22,  3.19s/it]2023-05-26 17:34:34,238 [INFO] [100000/151642 (66%)]\tLoss: 52.32\n",
      "2023-05-26 17:34:35,140 [INFO] Evaluating trained model ...\n",
      "2023-05-26 17:34:35,474 [INFO] Test set accuracy: 64843/64990 (0.9977381135559317)\n",
      "\n",
      "Epoch:  76%|███████▌  | 19/25 [01:00<00:19,  3.21s/it]2023-05-26 17:34:37,436 [INFO] [100000/151642 (66%)]\tLoss: 48.28\n",
      "2023-05-26 17:34:38,284 [INFO] Evaluating trained model ...\n",
      "2023-05-26 17:34:38,620 [INFO] Test set accuracy: 64854/64990 (0.9979073703646715)\n",
      "\n",
      "Epoch:  80%|████████  | 20/25 [01:03<00:15,  3.19s/it]2023-05-26 17:34:40,603 [INFO] [100000/151642 (66%)]\tLoss: 46.00\n",
      "2023-05-26 17:34:41,446 [INFO] Evaluating trained model ...\n",
      "2023-05-26 17:34:41,781 [INFO] Test set accuracy: 64858/64990 (0.9979689182951224)\n",
      "\n",
      "Epoch:  84%|████████▍ | 21/25 [01:06<00:12,  3.18s/it]2023-05-26 17:34:43,777 [INFO] [100000/151642 (66%)]\tLoss: 41.51\n",
      "2023-05-26 17:34:44,659 [INFO] Evaluating trained model ...\n",
      "2023-05-26 17:34:44,996 [INFO] Test set accuracy: 64868/64990 (0.9981227881212494)\n",
      "\n",
      "Epoch:  88%|████████▊ | 22/25 [01:09<00:09,  3.19s/it]2023-05-26 17:34:46,974 [INFO] [100000/151642 (66%)]\tLoss: 38.15\n",
      "2023-05-26 17:34:47,824 [INFO] Evaluating trained model ...\n",
      "2023-05-26 17:34:48,157 [INFO] Test set accuracy: 64868/64990 (0.9981227881212494)\n",
      "\n",
      "Epoch:  92%|█████████▏| 23/25 [01:12<00:06,  3.18s/it]2023-05-26 17:34:50,131 [INFO] [100000/151642 (66%)]\tLoss: 34.19\n",
      "2023-05-26 17:34:50,981 [INFO] Evaluating trained model ...\n",
      "2023-05-26 17:34:51,325 [INFO] Test set accuracy: 64880/64990 (0.998307431912602)\n",
      "\n",
      "Epoch:  96%|█████████▌| 24/25 [01:16<00:03,  3.18s/it]2023-05-26 17:34:53,316 [INFO] [100000/151642 (66%)]\tLoss: 30.59\n",
      "2023-05-26 17:34:54,103 [INFO] Evaluating trained model ...\n",
      "2023-05-26 17:34:54,444 [INFO] Test set accuracy: 64886/64990 (0.9983997538082782)\n",
      "\n",
      "Epoch: 100%|██████████| 25/25 [01:19<00:00,  3.17s/it]"
     ]
    },
    {
     "name": "stdout",
     "output_type": "stream",
     "text": [
      "CPU times: user 2min 22s, sys: 5.03 s, total: 2min 27s\n",
      "Wall time: 1min 23s\n"
     ]
    },
    {
     "name": "stderr",
     "output_type": "stream",
     "text": [
      "\n"
     ]
    }
   ],
   "source": [
    "%%time\n",
    "dd.train_model(train_data, labels, batch_size=BATCH_SIZE, epochs=EPOCHS, train_size=0.7)"
   ]
  },
  {
   "cell_type": "markdown",
   "metadata": {},
   "source": [
    "### Save Model\n",
    "Save pretrained model to a given output location."
   ]
  },
  {
   "cell_type": "code",
   "execution_count": 10,
   "metadata": {},
   "outputs": [
    {
     "name": "stderr",
     "output_type": "stream",
     "text": [
      "2023-05-26 17:34:54,461 [INFO] Pretrained model checkpoint saved to location: 'models/rnn_classifier_2023-05-26_17_34_54.bin'\n"
     ]
    }
   ],
   "source": [
    "if not os.path.exists(MODELS_DIR):\n",
    "    print(\"Creating directory '{}'\".format(MODELS_DIR))\n",
    "    os.makedirs(MODELS_DIR)\n",
    "\n",
    "now = datetime.now()\n",
    "model_filename = \"rnn_classifier_{}.bin\".format(now.strftime(\"%Y-%m-%d_%H_%M_%S\"))\n",
    "model_filepath = os.path.join(MODELS_DIR, model_filename)\n",
    "dd.save_checkpoint(model_filepath)"
   ]
  },
  {
   "cell_type": "markdown",
   "metadata": {},
   "source": [
    "### Inference"
   ]
  },
  {
   "cell_type": "markdown",
   "metadata": {},
   "source": [
    "Using the model generated above, we now score the test dataset against the model to determine if the domain is likely generated by a DGA or benign."
   ]
  },
  {
   "cell_type": "code",
   "execution_count": 11,
   "metadata": {},
   "outputs": [
    {
     "name": "stderr",
     "output_type": "stream",
     "text": [
      "2023-05-26 17:34:54,482 [INFO] Found GPU's now setting up cuda for the model\n"
     ]
    },
    {
     "name": "stdout",
     "output_type": "stream",
     "text": [
      "Model accuracy: 0.9983535928604401\n"
     ]
    }
   ],
   "source": [
    "dga_detector = DGADetector()\n",
    "dga_detector.load_checkpoint(model_filepath)\n",
    "\n",
    "train, test = train_test_split(gdf, train_size=0.7)\n",
    "test_df = cudf.DataFrame()\n",
    "test_df[\"type\"] = test[\"type\"].reset_index(drop=True)\n",
    "test_df[\"domain\"] = test[\"domain\"].reset_index(drop=True)\n",
    "\n",
    "test_dataset = DGADataset(test_df, 100)\n",
    "test_dataloader = DataLoader(test_dataset, batchsize=BATCH_SIZE)\n",
    "\n",
    "pred_results = []\n",
    "true_results = []\n",
    "for chunk in test_dataloader.get_chunks():\n",
    "    pred_results.append(list(dga_detector.predict(chunk['domain']).values_host))\n",
    "    true_results.append(list(chunk['type'].values_host))\n",
    "pred_results = np.concatenate(pred_results)\n",
    "true_results = np.concatenate(true_results)\n",
    "accuracy_score_result = accuracy_score(pred_results, true_results)\n",
    "\n",
    "print('Model accuracy: %s'%(accuracy_score_result))"
   ]
  },
  {
   "cell_type": "code",
   "execution_count": 12,
   "metadata": {},
   "outputs": [
    {
     "name": "stdout",
     "output_type": "stream",
     "text": [
      "Average precision score: 0.997\n"
     ]
    }
   ],
   "source": [
    "average_precision = average_precision_score(true_results, pred_results)\n",
    "\n",
    "print('Average precision score: {0:0.3f}'.format(average_precision))"
   ]
  },
  {
   "cell_type": "markdown",
   "metadata": {},
   "source": [
    "## Export Model to ONNX"
   ]
  },
  {
   "cell_type": "code",
   "execution_count": 13,
   "metadata": {
    "tags": []
   },
   "outputs": [],
   "source": [
    "def preprocess(df, pad_max_len):\n",
    "    df = str2ascii(df[0:32], 'domain')\n",
    "    df = df.drop(\"domain\", axis=1)\n",
    "    seq_len_arr = df[\"len\"].values_host\n",
    "    df = df.drop(\"len\", axis=1)\n",
    "    seq_len_tensor = torch.LongTensor(seq_len_arr)\n",
    "\n",
    "    seq_cp = df.to_cupy()\n",
    "    input = cp.zeros((seq_cp.shape[0], pad_max_len))\n",
    "    input[:seq_cp.shape[0], :seq_cp.shape[1]] = seq_cp\n",
    "    input = input.astype(\"long\")\n",
    "    seq_tensor = torch.as_tensor(input)\n",
    "    \n",
    "    if torch.cuda.is_available():\n",
    "        seq_tensor = seq_tensor.cuda()\n",
    "        seq_len_tensor = seq_len_tensor.cuda()\n",
    "\n",
    "    return seq_tensor, seq_len_tensor"
   ]
  },
  {
   "cell_type": "code",
   "execution_count": 14,
   "metadata": {
    "tags": []
   },
   "outputs": [],
   "source": [
    "input, seq_lengths = preprocess(gdf[0:32], 100)\n",
    "sample_model_input = (input, seq_lengths)\n",
    "model_to_export = dga_detector.get_unwrapped_model()"
   ]
  },
  {
   "cell_type": "code",
   "execution_count": 15,
   "metadata": {
    "tags": []
   },
   "outputs": [
    {
     "name": "stderr",
     "output_type": "stream",
     "text": [
      "/my_data/gitrepos/efajardo-nv/morpheus-experimental/dga-detection/training-tuning-inference/rnn_classifier.py:57: TracerWarning: Converting a tensor to a NumPy array might cause the trace to be incorrect. We can't record the data flow of Python values, so this value will be treated as a constant in the future. This means that the trace might not generalize to other inputs!\n",
      "  gru_input = pack_padded_sequence(embedded, seq_lengths.data.cpu().numpy())\n",
      "/my_data/gitrepos/efajardo-nv/morpheus-experimental/dga-detection/training-tuning-inference/rnn_classifier.py:57: UserWarning: pack_padded_sequence has been called with a Python list of sequence lengths. The tracer cannot track the data flow of Python values, and it will treat them as constants, likely rendering the trace incorrect for any other combination of lengths.\n",
      "  gru_input = pack_padded_sequence(embedded, seq_lengths.data.cpu().numpy())\n",
      "/opt/conda/envs/mor_exp/lib/python3.10/site-packages/torch/onnx/_internal/jit_utils.py:258: UserWarning: The shape inference of prim::PackPadded type is missing, so it may result in wrong shape inference for the exported graph. Please consider adding it in symbolic function. (Triggered internally at ../torch/csrc/jit/passes/onnx/shape_type_inference.cpp:1884.)\n",
      "  _C._jit_pass_onnx_node_shape_type_inference(node, params_dict, opset_version)\n",
      "/opt/conda/envs/mor_exp/lib/python3.10/site-packages/torch/onnx/symbolic_opset9.py:4315: UserWarning: Exporting a model to ONNX with a batch_size other than 1, with a variable length with GRU can cause an error when running the ONNX model with a different batch size. Make sure to save the model with a batch size of 1, or define the initial states (h0/c0) as inputs of the model. \n",
      "  warnings.warn(\n"
     ]
    }
   ],
   "source": [
    "torch.onnx.export(model_to_export,              \n",
    "                  sample_model_input,               \n",
    "                  \"model.onnx\",                                      # where to save the model\n",
    "                  export_params=True,                                # store the trained parameter weights inside the model file\n",
    "                  opset_version=10,                                  # the ONNX version to export the model to\n",
    "                  do_constant_folding=True,                          # whether to execute constant folding for optimization\n",
    "                  input_names = ['domains', \"seq_lengths\"],          # the model's input names\n",
    "                  output_names = ['output'],                         # the model's output names\n",
    "                  dynamic_axes={'domains' : {0 : 'batch_size'},      # variable length axes\n",
    "                                'seq_lengths': {0: 'batch_size'}, \n",
    "                                'output' : {0 : 'batch_size'}})"
   ]
  },
  {
   "cell_type": "markdown",
   "metadata": {},
   "source": [
    "## Conclusion"
   ]
  },
  {
   "cell_type": "markdown",
   "metadata": {},
   "source": [
    "This DGA detection implementation enables users to train their models for detection and also use existing models. This capability could also be used in conjunction with log parsing efforts if the logs contain domain names. Data is kept in GPU memory, removing unnecessary copy/converts and providing a 4X speed advantage over CPU only implementations. This is esepcially true with large batch sizes."
   ]
  }
 ],
 "metadata": {
  "kernelspec": {
   "display_name": "Python 3 (ipykernel)",
   "language": "python",
   "name": "python3"
  },
  "language_info": {
   "codemirror_mode": {
    "name": "ipython",
    "version": 3
   },
   "file_extension": ".py",
   "mimetype": "text/x-python",
   "name": "python",
   "nbconvert_exporter": "python",
   "pygments_lexer": "ipython3",
   "version": "3.10.11"
  }
 },
 "nbformat": 4,
 "nbformat_minor": 4
}
