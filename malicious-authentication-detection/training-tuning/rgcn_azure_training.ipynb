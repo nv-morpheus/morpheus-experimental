{
 "cells": [
  {
   "cell_type": "markdown",
   "id": "e6651de6-53a6-45b0-b41e-db295f2692e1",
   "metadata": {},
   "source": [
    "## Detection of Malicious Accounts on Azure-AD signon using Relational Graph Neural Network (RGCN)"
   ]
  },
  {
   "cell_type": "markdown",
   "id": "6ef3ce1d-25e1-4e16-b98b-95e94ac5bd6e",
   "metadata": {},
   "source": [
    "### Content\n",
    "1. Introduction\n",
    "2. Dataset Loading & Precessing\n",
    "3. Graph construction\n",
    "4. Training\n",
    "5. Evaluation\n",
    "6. Summary"
   ]
  },
  {
   "cell_type": "markdown",
   "id": "4b0912b6-6364-4789-941a-b27ccee662ea",
   "metadata": {},
   "source": [
    "### 1. Introduction"
   ]
  },
  {
   "cell_type": "markdown",
   "id": "16e6eea4-4a9d-4d84-97ec-a22e5deb41cc",
   "metadata": {},
   "source": [
    "Azure active directory (Azure-AD) is an identity and access management service, that helps users to access external and internal resources such as Office365, SaaS applications. The Sign-in logs in Azure-AD log identifies who the user is, how the application is used for the access and the target accessed by the identity [1]. On a given time 𝑡, a service 𝑠 is requested by user 𝑢 from device 𝑑 using authentication mechanism of 𝑎 to be either allowed or blocked.\n",
    "\n",
    "This workflow shows end-to-end pipeline for azure malicious sign-in malicious detection using relational graph neural network (RGCN)."
   ]
  },
  {
   "cell_type": "code",
   "execution_count": 125,
   "id": "39f48fa1-796f-403e-8fe6-8db68401d80f",
   "metadata": {},
   "outputs": [
    {
     "name": "stdout",
     "output_type": "stream",
     "text": [
      "The autoreload extension is already loaded. To reload it, use:\n",
      "  %reload_ext autoreload\n"
     ]
    }
   ],
   "source": [
    "%load_ext autoreload\n",
    "%autoreload 2\n",
    "import warnings\n",
    "warnings.filterwarnings('ignore')\n",
    "\n",
    "import torch\n",
    "import torch.nn as nn\n",
    "import pandas as pd\n",
    "import torch.nn.functional as F\n",
    "import dgl\n",
    "import dgl.nn.pytorch as dglnn\n",
    "import numpy as np\n",
    "import dgl.function as fn\n",
    "import pickle\n",
    "from utils import *\n",
    "import logging\n",
    "from sklearn.metrics import roc_auc_score, accuracy_score\n",
    "from model import HeteroRGCN, save_model\n",
    "from tqdm import tqdm, trange\n",
    "from data_processing import   build_azure_graph, get_anonomized_dataset, synthetic_azure\n",
    "\n",
    "from xgboost import XGBClassifier\n",
    "from utils import get_metrics\n",
    "from model_training import init_loaders, train, evaluate\n"
   ]
  },
  {
   "cell_type": "markdown",
   "id": "da9c71ef-6796-419e-989a-22c64643821e",
   "metadata": {},
   "source": [
    "\n",
    "### Dataset Loading and Processing\n",
    "Load dataset and set true fraud label for the testing and status flag for training. Define set of meta columns to exclude as training features. "
   ]
  },
  {
   "cell_type": "code",
   "execution_count": 108,
   "id": "2775118d-684f-4548-b615-83ec196559c0",
   "metadata": {},
   "outputs": [],
   "source": [
    "status_label = 'status_flag'\n",
    "result_dir = \"azure_result\"\n",
    "meta_cols = ['day',\n",
    "'fraud_label','appId_id','userId_id','ipAddress_id', 'auth_id', 'status_flag']\n",
    "\n",
    "#meta_cols = ['day','appId', 'userId', 'ipAddress','CAS',\n",
    "            #'fraud_label','appId_id','userId_id','ipAddress_id', 'auth_id', 'status_flag']\n",
    "train_data, test_data, train_idx, test_idx, labels, df = get_anonomized_dataset() \n",
    "#train_data, test_data, train_idx, test_idx, labels, df  = synthetic_azure('azure_synthetic/azure_ad_logs_sample_with_anomaly_train.json')# \n",
    "\n",
    "fraud_labels = df['fraud_label'].values"
   ]
  },
  {
   "cell_type": "code",
   "execution_count": 109,
   "id": "f8556979-9ad5-460f-b26e-4d7869b480df",
   "metadata": {},
   "outputs": [],
   "source": [
    "#df.status_flag.value_counts()"
   ]
  },
  {
   "cell_type": "code",
   "execution_count": 110,
   "id": "f404d0c8-35c0-47d8-b225-3e73959908a5",
   "metadata": {},
   "outputs": [
    {
     "name": "stdout",
     "output_type": "stream",
     "text": [
      "The distribution of status flag for the train data is:\n",
      " 0    40457\n",
      "1     5518\n",
      "Name: status_flag, dtype: int64\n",
      "The distribution of fraud for the test data is:\n",
      " 0    11901\n",
      "1       71\n",
      "Name: fraud_label, dtype: int64\n"
     ]
    }
   ],
   "source": [
    "print('The distribution of status flag for the train data is:\\n', train_data['status_flag'].value_counts())\n",
    "print('The distribution of fraud for the test data is:\\n', test_data['fraud_label'].value_counts())"
   ]
  },
  {
   "cell_type": "code",
   "execution_count": 111,
   "id": "5498692c",
   "metadata": {},
   "outputs": [
    {
     "name": "stdout",
     "output_type": "stream",
     "text": [
      "Days in test set [58, 52, 53, 54, 51, 59, 55, 45, 46, 50, 56, 44, 47, 48, 49, 57]\n"
     ]
    }
   ],
   "source": [
    "print(f\"Days in test set {test_data.day.unique().tolist()}\")"
   ]
  },
  {
   "cell_type": "code",
   "execution_count": 112,
   "id": "bfffea90-8c47-4ad9-831f-fc0572812f99",
   "metadata": {},
   "outputs": [
    {
     "data": {
      "text/html": [
       "<div>\n",
       "<style scoped>\n",
       "    .dataframe tbody tr th:only-of-type {\n",
       "        vertical-align: middle;\n",
       "    }\n",
       "\n",
       "    .dataframe tbody tr th {\n",
       "        vertical-align: top;\n",
       "    }\n",
       "\n",
       "    .dataframe thead th {\n",
       "        text-align: right;\n",
       "    }\n",
       "</style>\n",
       "<table border=\"1\" class=\"dataframe\">\n",
       "  <thead>\n",
       "    <tr style=\"text-align: right;\">\n",
       "      <th></th>\n",
       "      <th>userId_id</th>\n",
       "      <th>status_flag</th>\n",
       "      <th>ipAddress_id</th>\n",
       "      <th>fraud_label</th>\n",
       "      <th>day</th>\n",
       "      <th>auth_id</th>\n",
       "      <th>appId_id</th>\n",
       "      <th>V_9</th>\n",
       "      <th>V_75</th>\n",
       "      <th>V_74</th>\n",
       "      <th>...</th>\n",
       "      <th>V_18</th>\n",
       "      <th>V_17</th>\n",
       "      <th>V_16</th>\n",
       "      <th>V_15</th>\n",
       "      <th>V_14</th>\n",
       "      <th>V_13</th>\n",
       "      <th>V_12</th>\n",
       "      <th>V_11</th>\n",
       "      <th>V_10</th>\n",
       "      <th>V_1</th>\n",
       "    </tr>\n",
       "  </thead>\n",
       "  <tbody>\n",
       "    <tr>\n",
       "      <th>1</th>\n",
       "      <td>1</td>\n",
       "      <td>0</td>\n",
       "      <td>1</td>\n",
       "      <td>0</td>\n",
       "      <td>295</td>\n",
       "      <td>1</td>\n",
       "      <td>0</td>\n",
       "      <td>1</td>\n",
       "      <td>0</td>\n",
       "      <td>0</td>\n",
       "      <td>...</td>\n",
       "      <td>0</td>\n",
       "      <td>0</td>\n",
       "      <td>0</td>\n",
       "      <td>1.0</td>\n",
       "      <td>0</td>\n",
       "      <td>0</td>\n",
       "      <td>0</td>\n",
       "      <td>0</td>\n",
       "      <td>0.0</td>\n",
       "      <td>1</td>\n",
       "    </tr>\n",
       "    <tr>\n",
       "      <th>2</th>\n",
       "      <td>1</td>\n",
       "      <td>0</td>\n",
       "      <td>2</td>\n",
       "      <td>0</td>\n",
       "      <td>298</td>\n",
       "      <td>2</td>\n",
       "      <td>0</td>\n",
       "      <td>1</td>\n",
       "      <td>0</td>\n",
       "      <td>0</td>\n",
       "      <td>...</td>\n",
       "      <td>0</td>\n",
       "      <td>0</td>\n",
       "      <td>0</td>\n",
       "      <td>1.0</td>\n",
       "      <td>0</td>\n",
       "      <td>0</td>\n",
       "      <td>0</td>\n",
       "      <td>0</td>\n",
       "      <td>0.0</td>\n",
       "      <td>1</td>\n",
       "    </tr>\n",
       "    <tr>\n",
       "      <th>3</th>\n",
       "      <td>2</td>\n",
       "      <td>1</td>\n",
       "      <td>3</td>\n",
       "      <td>0</td>\n",
       "      <td>35</td>\n",
       "      <td>3</td>\n",
       "      <td>0</td>\n",
       "      <td>0</td>\n",
       "      <td>1</td>\n",
       "      <td>0</td>\n",
       "      <td>...</td>\n",
       "      <td>0</td>\n",
       "      <td>0</td>\n",
       "      <td>0</td>\n",
       "      <td>1.0</td>\n",
       "      <td>0</td>\n",
       "      <td>0</td>\n",
       "      <td>0</td>\n",
       "      <td>0</td>\n",
       "      <td>0.0</td>\n",
       "      <td>1</td>\n",
       "    </tr>\n",
       "    <tr>\n",
       "      <th>5</th>\n",
       "      <td>2</td>\n",
       "      <td>1</td>\n",
       "      <td>5</td>\n",
       "      <td>0</td>\n",
       "      <td>35</td>\n",
       "      <td>5</td>\n",
       "      <td>0</td>\n",
       "      <td>0</td>\n",
       "      <td>1</td>\n",
       "      <td>0</td>\n",
       "      <td>...</td>\n",
       "      <td>0</td>\n",
       "      <td>0</td>\n",
       "      <td>0</td>\n",
       "      <td>1.0</td>\n",
       "      <td>0</td>\n",
       "      <td>0</td>\n",
       "      <td>0</td>\n",
       "      <td>0</td>\n",
       "      <td>0.0</td>\n",
       "      <td>1</td>\n",
       "    </tr>\n",
       "    <tr>\n",
       "      <th>6</th>\n",
       "      <td>2</td>\n",
       "      <td>1</td>\n",
       "      <td>6</td>\n",
       "      <td>0</td>\n",
       "      <td>341</td>\n",
       "      <td>6</td>\n",
       "      <td>0</td>\n",
       "      <td>0</td>\n",
       "      <td>1</td>\n",
       "      <td>0</td>\n",
       "      <td>...</td>\n",
       "      <td>0</td>\n",
       "      <td>0</td>\n",
       "      <td>0</td>\n",
       "      <td>1.0</td>\n",
       "      <td>0</td>\n",
       "      <td>0</td>\n",
       "      <td>0</td>\n",
       "      <td>0</td>\n",
       "      <td>0.0</td>\n",
       "      <td>1</td>\n",
       "    </tr>\n",
       "  </tbody>\n",
       "</table>\n",
       "<p>5 rows × 80 columns</p>\n",
       "</div>"
      ],
      "text/plain": [
       "   userId_id  status_flag  ipAddress_id  fraud_label  day  auth_id  appId_id  \\\n",
       "1          1            0             1            0  295        1         0   \n",
       "2          1            0             2            0  298        2         0   \n",
       "3          2            1             3            0   35        3         0   \n",
       "5          2            1             5            0   35        5         0   \n",
       "6          2            1             6            0  341        6         0   \n",
       "\n",
       "   V_9  V_75  V_74  ...  V_18  V_17  V_16  V_15  V_14  V_13  V_12  V_11  V_10  \\\n",
       "1    1     0     0  ...     0     0     0   1.0     0     0     0     0   0.0   \n",
       "2    1     0     0  ...     0     0     0   1.0     0     0     0     0   0.0   \n",
       "3    0     1     0  ...     0     0     0   1.0     0     0     0     0   0.0   \n",
       "5    0     1     0  ...     0     0     0   1.0     0     0     0     0   0.0   \n",
       "6    0     1     0  ...     0     0     0   1.0     0     0     0     0   0.0   \n",
       "\n",
       "   V_1  \n",
       "1    1  \n",
       "2    1  \n",
       "3    1  \n",
       "5    1  \n",
       "6    1  \n",
       "\n",
       "[5 rows x 80 columns]"
      ]
     },
     "execution_count": 112,
     "metadata": {},
     "output_type": "execute_result"
    }
   ],
   "source": [
    "train_data.head(5)"
   ]
  },
  {
   "cell_type": "code",
   "execution_count": 159,
   "id": "3b2d509a-38bc-4a06-9c96-f9c9042d4a96",
   "metadata": {},
   "outputs": [],
   "source": [
    "device = torch.device(\"cuda:0\" if torch.cuda.is_available() else \"cpu\")"
   ]
  },
  {
   "cell_type": "markdown",
   "id": "57c09da9-efa3-472f-946d-1f104a0c0687",
   "metadata": {},
   "source": [
    "### Graph construction\n",
    "\n",
    "Construct training and inference graph. Each graph is constructed using `train_data` and `test_data`, with graph schema defined in the `build_azure_graph` method. Create feature and compute weight for training proportion.\n",
    "\n",
    "![Azure-graph](graph.png)"
   ]
  },
  {
   "cell_type": "code",
   "execution_count": 144,
   "id": "f68861e3-5ec2-491e-80c8-096cfb9bb5eb",
   "metadata": {},
   "outputs": [],
   "source": [
    "g, _ = build_azure_graph(train_data, meta_cols)\n",
    "g_test, feature_tensors = build_azure_graph(df, meta_cols)\n",
    "n_nodes = sum([g.number_of_nodes(n_type) for n_type in g.ntypes])\n",
    "n_edges = sum([g.number_of_edges(e_type) for e_type in g.etypes])"
   ]
  },
  {
   "cell_type": "code",
   "execution_count": 160,
   "id": "cee62f13-a417-4c4b-8fe2-2f098c1efb73",
   "metadata": {},
   "outputs": [],
   "source": [
    "# parameters\n",
    "in_size, hidden_size, out_size, n_layers, embedding_size = feature_tensors.shape[1], 16, 2, 2, 8  # 2 16\n",
    "\n",
    "labels = torch.LongTensor(labels).to(device)\n",
    "scale_pos_weight = train_data[status_label].sum() / train_data.shape[0]\n",
    "scale_pos_weight = torch.tensor(\n",
    "    [scale_pos_weight, 1-scale_pos_weight]).to(device)\n",
    "\n",
    "target_node = \"authentication\""
   ]
  },
  {
   "cell_type": "markdown",
   "id": "5a17609f-5082-44dc-b2df-ce13182e5831",
   "metadata": {},
   "source": [
    "### RGCN model\n",
    "\n",
    "At high level, the R-GCN model takes graph 𝐺 of nodes features 𝑋 and learn an embedding of 𝐺 with a function 𝑓:𝑉→𝑅𝑑 that map each node 𝑣∈ 𝑉 to d-dimensional vector. The model is trained as a semi-supervised settings to classify each authentication as potential success or failure authentication from historical authentication logs. The embedding vector for “authentication” node is then used to score whether the authentication is benign or malicious. We compare the detection score of R-GCN SoftMax layer along feeding the learned embedding to unsupervised anomaly detection algorithm isolation forest\n"
   ]
  },
  {
   "cell_type": "code",
   "execution_count": 146,
   "id": "f3633975-7b86-4f36-a2fe-695bd74580f5",
   "metadata": {},
   "outputs": [
    {
     "name": "stdout",
     "output_type": "stream",
     "text": [
      " ---- Data statistics ------\n",
      "            # Nodes: 61343\n",
      "            # Edges: 275850\n",
      "            # Features Shape: 57947\n",
      "            # Labeled Train samples: 45975\n",
      "            # Unlabeled Test samples: 11972\n"
     ]
    }
   ],
   "source": [
    "print(\n",
    "    \"\"\" ---- Data statistics ------\n",
    "            # Nodes: {}\n",
    "            # Edges: {}\n",
    "            # Features Shape: {}\n",
    "            # Labeled Train samples: {}\n",
    "            # Unlabeled Test samples: {}\"\"\".\n",
    "    format(\n",
    "        n_nodes, n_edges, feature_tensors.shape[0],\n",
    "        train_data.shape[0],\n",
    "        test_data.shape[0]))"
   ]
  },
  {
   "cell_type": "markdown",
   "id": "05083534-711c-4497-bfdd-8dbdc9e40872",
   "metadata": {},
   "source": [
    "#### Model training\n",
    "\n",
    "The model is trained using azure log data of 3 months for selected users and tested on 14 days of future days. The dataset consists of 199 users with 2 compromised users for 4 days of login events. Selected features are aggregated as OHE per day for individual users, app requested, and device activity logs and authentication behaviors. The `statusFailure` features is used for semi-supervised training of the model. It has binary values of either \"success\" or \"failure\".\n",
    "\n",
    "Set dataloaders, define model and optimizers."
   ]
  },
  {
   "cell_type": "code",
   "execution_count": 155,
   "id": "3c9c968b-8b56-4631-96df-44d67d27443b",
   "metadata": {},
   "outputs": [],
   "source": [
    "epochs = 30\n",
    "train_loader, val_loader, test_loader = init_loaders(\n",
    "    g, train_idx, test_idx=test_idx, val_idx=train_idx, g_test=g_test,\n",
    "    target_node=target_node)\n",
    "\n",
    "model = HeteroRGCN(g, in_size, hidden_size, out_size,\n",
    "                   n_layers, embedding_size, device=device, target=target_node).to(device)\n",
    "\n",
    "optimizer = torch.optim.Adam(\n",
    "    model.parameters(),\n",
    "    lr=0.001, weight_decay=5e-4)\n",
    "loss_func = nn.CrossEntropyLoss(weight=scale_pos_weight.float())\n",
    "logging.info(\"Model\\n\")\n",
    "logging.info(model)\n",
    "best_model = model"
   ]
  },
  {
   "cell_type": "code",
   "execution_count": 156,
   "id": "c030aba7-975b-479d-83ef-71269db11392",
   "metadata": {},
   "outputs": [
    {
     "name": "stderr",
     "output_type": "stream",
     "text": [
      "  0%|          | 0/30 [00:00<?, ?it/s]"
     ]
    },
    {
     "name": "stdout",
     "output_type": "stream",
     "text": [
      "Epoch 000/030 | Train Accuracy: 0.8585 | Train Loss: 31.2718\n"
     ]
    },
    {
     "name": "stderr",
     "output_type": "stream",
     "text": [
      "  3%|▎         | 1/30 [00:01<00:43,  1.51s/it]"
     ]
    },
    {
     "name": "stdout",
     "output_type": "stream",
     "text": [
      "Validation Accuracy: 0.8784 auc 0.7206\n",
      "Epoch 001/030 | Train Accuracy: 0.8615 | Train Loss: 29.0688\n"
     ]
    },
    {
     "name": "stderr",
     "output_type": "stream",
     "text": [
      "  7%|▋         | 2/30 [00:03<00:42,  1.50s/it]"
     ]
    },
    {
     "name": "stdout",
     "output_type": "stream",
     "text": [
      "Validation Accuracy: 0.8839 auc 0.7960\n",
      "Epoch 002/030 | Train Accuracy: 0.8626 | Train Loss: 27.2712\n"
     ]
    },
    {
     "name": "stderr",
     "output_type": "stream",
     "text": [
      " 10%|█         | 3/30 [00:04<00:40,  1.49s/it]"
     ]
    },
    {
     "name": "stdout",
     "output_type": "stream",
     "text": [
      "Validation Accuracy: 0.9081 auc 0.8624\n",
      "Epoch 003/030 | Train Accuracy: 0.8738 | Train Loss: 24.5607\n"
     ]
    },
    {
     "name": "stderr",
     "output_type": "stream",
     "text": [
      " 13%|█▎        | 4/30 [00:05<00:38,  1.49s/it]"
     ]
    },
    {
     "name": "stdout",
     "output_type": "stream",
     "text": [
      "Validation Accuracy: 0.9297 auc 0.8783\n",
      "Epoch 004/030 | Train Accuracy: 0.8585 | Train Loss: 22.0463\n"
     ]
    },
    {
     "name": "stderr",
     "output_type": "stream",
     "text": [
      " 17%|█▋        | 5/30 [00:07<00:37,  1.49s/it]"
     ]
    },
    {
     "name": "stdout",
     "output_type": "stream",
     "text": [
      "Validation Accuracy: 0.8990 auc 0.8706\n",
      "Epoch 005/030 | Train Accuracy: 0.8821 | Train Loss: 21.6355\n"
     ]
    },
    {
     "name": "stderr",
     "output_type": "stream",
     "text": [
      " 20%|██        | 6/30 [00:08<00:35,  1.49s/it]"
     ]
    },
    {
     "name": "stdout",
     "output_type": "stream",
     "text": [
      "Validation Accuracy: 0.9117 auc 0.8805\n",
      "Epoch 006/030 | Train Accuracy: 0.8482 | Train Loss: 20.2606\n"
     ]
    },
    {
     "name": "stderr",
     "output_type": "stream",
     "text": [
      " 23%|██▎       | 7/30 [00:10<00:34,  1.49s/it]"
     ]
    },
    {
     "name": "stdout",
     "output_type": "stream",
     "text": [
      "Validation Accuracy: 0.9140 auc 0.8914\n",
      "Epoch 007/030 | Train Accuracy: 0.8636 | Train Loss: 20.7860\n"
     ]
    },
    {
     "name": "stderr",
     "output_type": "stream",
     "text": [
      " 27%|██▋       | 8/30 [00:11<00:32,  1.49s/it]"
     ]
    },
    {
     "name": "stdout",
     "output_type": "stream",
     "text": [
      "Validation Accuracy: 0.8992 auc 0.8885\n",
      "Epoch 008/030 | Train Accuracy: 0.8718 | Train Loss: 20.5984\n"
     ]
    },
    {
     "name": "stderr",
     "output_type": "stream",
     "text": [
      " 30%|███       | 9/30 [00:13<00:31,  1.49s/it]"
     ]
    },
    {
     "name": "stdout",
     "output_type": "stream",
     "text": [
      "Validation Accuracy: 0.8907 auc 0.8902\n",
      "Epoch 009/030 | Train Accuracy: 0.8708 | Train Loss: 19.9589\n"
     ]
    },
    {
     "name": "stderr",
     "output_type": "stream",
     "text": [
      " 33%|███▎      | 10/30 [00:14<00:29,  1.49s/it]"
     ]
    },
    {
     "name": "stdout",
     "output_type": "stream",
     "text": [
      "Validation Accuracy: 0.9153 auc 0.8902\n",
      "Epoch 010/030 | Train Accuracy: 0.8759 | Train Loss: 19.6866\n"
     ]
    },
    {
     "name": "stderr",
     "output_type": "stream",
     "text": [
      " 37%|███▋      | 11/30 [00:16<00:28,  1.49s/it]"
     ]
    },
    {
     "name": "stdout",
     "output_type": "stream",
     "text": [
      "Validation Accuracy: 0.8669 auc 0.8947\n",
      "Epoch 011/030 | Train Accuracy: 0.8677 | Train Loss: 19.5124\n"
     ]
    },
    {
     "name": "stderr",
     "output_type": "stream",
     "text": [
      " 40%|████      | 12/30 [00:17<00:26,  1.50s/it]"
     ]
    },
    {
     "name": "stdout",
     "output_type": "stream",
     "text": [
      "Validation Accuracy: 0.8645 auc 0.8917\n",
      "Epoch 012/030 | Train Accuracy: 0.8574 | Train Loss: 19.4918\n"
     ]
    },
    {
     "name": "stderr",
     "output_type": "stream",
     "text": [
      " 43%|████▎     | 13/30 [00:19<00:25,  1.49s/it]"
     ]
    },
    {
     "name": "stdout",
     "output_type": "stream",
     "text": [
      "Validation Accuracy: 0.8946 auc 0.8916\n",
      "Epoch 013/030 | Train Accuracy: 0.8390 | Train Loss: 18.1407\n"
     ]
    },
    {
     "name": "stderr",
     "output_type": "stream",
     "text": [
      " 47%|████▋     | 14/30 [00:20<00:23,  1.49s/it]"
     ]
    },
    {
     "name": "stdout",
     "output_type": "stream",
     "text": [
      "Validation Accuracy: 0.8899 auc 0.8962\n",
      "Epoch 014/030 | Train Accuracy: 0.8503 | Train Loss: 19.7646\n"
     ]
    },
    {
     "name": "stderr",
     "output_type": "stream",
     "text": [
      " 50%|█████     | 15/30 [00:22<00:22,  1.49s/it]"
     ]
    },
    {
     "name": "stdout",
     "output_type": "stream",
     "text": [
      "Validation Accuracy: 0.9284 auc 0.8905\n",
      "Epoch 015/030 | Train Accuracy: 0.8574 | Train Loss: 19.3401\n"
     ]
    },
    {
     "name": "stderr",
     "output_type": "stream",
     "text": [
      " 53%|█████▎    | 16/30 [00:23<00:20,  1.49s/it]"
     ]
    },
    {
     "name": "stdout",
     "output_type": "stream",
     "text": [
      "Validation Accuracy: 0.8914 auc 0.8865\n",
      "Epoch 016/030 | Train Accuracy: 0.8256 | Train Loss: 19.1471\n"
     ]
    },
    {
     "name": "stderr",
     "output_type": "stream",
     "text": [
      " 57%|█████▋    | 17/30 [00:25<00:19,  1.49s/it]"
     ]
    },
    {
     "name": "stdout",
     "output_type": "stream",
     "text": [
      "Validation Accuracy: 0.8896 auc 0.8811\n",
      "Epoch 017/030 | Train Accuracy: 0.8708 | Train Loss: 19.0206\n"
     ]
    },
    {
     "name": "stderr",
     "output_type": "stream",
     "text": [
      " 60%|██████    | 18/30 [00:26<00:17,  1.49s/it]"
     ]
    },
    {
     "name": "stdout",
     "output_type": "stream",
     "text": [
      "Validation Accuracy: 0.8836 auc 0.8990\n",
      "Epoch 018/030 | Train Accuracy: 0.8410 | Train Loss: 18.8234\n"
     ]
    },
    {
     "name": "stderr",
     "output_type": "stream",
     "text": [
      " 63%|██████▎   | 19/30 [00:28<00:16,  1.49s/it]"
     ]
    },
    {
     "name": "stdout",
     "output_type": "stream",
     "text": [
      "Validation Accuracy: 0.9077 auc 0.8998\n",
      "Epoch 019/030 | Train Accuracy: 0.8154 | Train Loss: 20.2356\n"
     ]
    },
    {
     "name": "stderr",
     "output_type": "stream",
     "text": [
      " 67%|██████▋   | 20/30 [00:29<00:14,  1.49s/it]"
     ]
    },
    {
     "name": "stdout",
     "output_type": "stream",
     "text": [
      "Validation Accuracy: 0.9026 auc 0.8936\n",
      "Epoch 020/030 | Train Accuracy: 0.8421 | Train Loss: 19.7626\n"
     ]
    },
    {
     "name": "stderr",
     "output_type": "stream",
     "text": [
      " 70%|███████   | 21/30 [00:31<00:13,  1.50s/it]"
     ]
    },
    {
     "name": "stdout",
     "output_type": "stream",
     "text": [
      "Validation Accuracy: 0.9196 auc 0.8866\n",
      "Epoch 021/030 | Train Accuracy: 0.8564 | Train Loss: 19.0222\n"
     ]
    },
    {
     "name": "stderr",
     "output_type": "stream",
     "text": [
      " 73%|███████▎  | 22/30 [00:32<00:11,  1.50s/it]"
     ]
    },
    {
     "name": "stdout",
     "output_type": "stream",
     "text": [
      "Validation Accuracy: 0.9027 auc 0.8940\n",
      "Epoch 022/030 | Train Accuracy: 0.8564 | Train Loss: 18.9692\n"
     ]
    },
    {
     "name": "stderr",
     "output_type": "stream",
     "text": [
      " 77%|███████▋  | 23/30 [00:34<00:10,  1.50s/it]"
     ]
    },
    {
     "name": "stdout",
     "output_type": "stream",
     "text": [
      "Validation Accuracy: 0.9066 auc 0.8953\n",
      "Epoch 023/030 | Train Accuracy: 0.8123 | Train Loss: 20.4629\n"
     ]
    },
    {
     "name": "stderr",
     "output_type": "stream",
     "text": [
      " 80%|████████  | 24/30 [00:35<00:09,  1.50s/it]"
     ]
    },
    {
     "name": "stdout",
     "output_type": "stream",
     "text": [
      "Validation Accuracy: 0.9050 auc 0.9002\n",
      "Epoch 024/030 | Train Accuracy: 0.8821 | Train Loss: 19.9970\n"
     ]
    },
    {
     "name": "stderr",
     "output_type": "stream",
     "text": [
      " 83%|████████▎ | 25/30 [00:37<00:07,  1.50s/it]"
     ]
    },
    {
     "name": "stdout",
     "output_type": "stream",
     "text": [
      "Validation Accuracy: 0.9092 auc 0.8999\n",
      "Epoch 025/030 | Train Accuracy: 0.8790 | Train Loss: 19.2545\n"
     ]
    },
    {
     "name": "stderr",
     "output_type": "stream",
     "text": [
      " 87%|████████▋ | 26/30 [00:38<00:06,  1.50s/it]"
     ]
    },
    {
     "name": "stdout",
     "output_type": "stream",
     "text": [
      "Validation Accuracy: 0.9050 auc 0.8914\n",
      "Epoch 026/030 | Train Accuracy: 0.8718 | Train Loss: 20.0298\n"
     ]
    },
    {
     "name": "stderr",
     "output_type": "stream",
     "text": [
      " 90%|█████████ | 27/30 [00:40<00:04,  1.50s/it]"
     ]
    },
    {
     "name": "stdout",
     "output_type": "stream",
     "text": [
      "Validation Accuracy: 0.9117 auc 0.8885\n",
      "Epoch 027/030 | Train Accuracy: 0.8574 | Train Loss: 19.5059\n"
     ]
    },
    {
     "name": "stderr",
     "output_type": "stream",
     "text": [
      " 93%|█████████▎| 28/30 [00:41<00:03,  1.50s/it]"
     ]
    },
    {
     "name": "stdout",
     "output_type": "stream",
     "text": [
      "Validation Accuracy: 0.9163 auc 0.8950\n",
      "Epoch 028/030 | Train Accuracy: 0.8297 | Train Loss: 17.8638\n"
     ]
    },
    {
     "name": "stderr",
     "output_type": "stream",
     "text": [
      " 97%|█████████▋| 29/30 [00:43<00:01,  1.50s/it]"
     ]
    },
    {
     "name": "stdout",
     "output_type": "stream",
     "text": [
      "Validation Accuracy: 0.9190 auc 0.8962\n",
      "Epoch 029/030 | Train Accuracy: 0.8328 | Train Loss: 18.3877\n"
     ]
    },
    {
     "name": "stderr",
     "output_type": "stream",
     "text": [
      "100%|██████████| 30/30 [00:44<00:00,  1.50s/it]"
     ]
    },
    {
     "name": "stdout",
     "output_type": "stream",
     "text": [
      "Validation Accuracy: 0.8952 auc 0.8918\n"
     ]
    },
    {
     "name": "stderr",
     "output_type": "stream",
     "text": [
      "\n"
     ]
    }
   ],
   "source": [
    "#%timeit\n",
    "best_auc = 0\n",
    "for epoch in trange(epochs):\n",
    "    train_acc, loss = train(\n",
    "        model, loss_func, train_loader, labels, optimizer, feature_tensors,\n",
    "        target_node=target_node, device=device)\n",
    "    print(\"Epoch {:03d}/{:03d} | Train Accuracy: {:.4f} | Train Loss: {:.4f}\".format(\n",
    "        epoch, epochs, train_acc, loss))\n",
    "\n",
    "    val_logits, val_seed, _ = evaluate(\n",
    "        model, val_loader, feature_tensors, target_node, device=device)\n",
    "    val_accuracy = accuracy_score(\n",
    "        val_logits.argmax(1),\n",
    "        labels.long()[val_seed].cpu()).item()\n",
    "    val_auc = roc_auc_score(labels.long()[val_seed].cpu().numpy(),\n",
    "                            val_logits[:, 1].numpy(),)\n",
    "    print(\n",
    "        \"Validation Accuracy: {:.4f} auc {:.4f}\".format(\n",
    "            val_accuracy, val_auc))\n",
    "        \n",
    "best_model = model"
   ]
  },
  {
   "cell_type": "markdown",
   "id": "ea593812-6346-466f-b597-3da31c7d4487",
   "metadata": {},
   "source": [
    "### Evaluation"
   ]
  },
  {
   "cell_type": "markdown",
   "id": "5d852f2f-0a42-47de-a574-679701acb8c8",
   "metadata": {},
   "source": [
    "Build node embedding of training and testing data.\n",
    "\n"
   ]
  },
  {
   "cell_type": "code",
   "execution_count": 149,
   "id": "ce4032eb-cd7b-41c5-8048-f0080a9241ed",
   "metadata": {},
   "outputs": [],
   "source": [
    "# Create training Embedding\n",
    "train_logits, train_seeds, train_embedding = evaluate(\n",
    "    best_model, train_loader, feature_tensors, target_node)"
   ]
  },
  {
   "cell_type": "code",
   "execution_count": 150,
   "id": "5db910ea-2ac9-4a25-956f-de46e3104284",
   "metadata": {},
   "outputs": [],
   "source": [
    "test_logits, test_seeds, test_embedding = evaluate(\n",
    "    best_model, test_loader, feature_tensors, target_node)"
   ]
  },
  {
   "cell_type": "code",
   "execution_count": 151,
   "id": "a571131f",
   "metadata": {},
   "outputs": [],
   "source": [
    "test_acc = accuracy_score(\n",
    "    test_logits.argmax(dim=1),\n",
    "    labels.long()[test_seeds].cpu()).item()\n",
    "test_auc = roc_auc_score(fraud_labels[test_seeds],\n",
    "                         test_logits[:, 1].numpy())"
   ]
  },
  {
   "cell_type": "markdown",
   "id": "fef207cc",
   "metadata": {},
   "source": [
    "Compare with baseline models"
   ]
  },
  {
   "cell_type": "code",
   "execution_count": 152,
   "id": "6650ffc5-5921-4b9c-90de-2f07f2c961dd",
   "metadata": {},
   "outputs": [
    {
     "name": "stdout",
     "output_type": "stream",
     "text": [
      "Final Test Accuracy: 0.846 auc 0.827\n"
     ]
    },
    {
     "data": {
      "image/png": "[encoded data removed]",
      "text/plain": [
       "<Figure size 432x288 with 1 Axes>"
      ]
     },
     "metadata": {
      "needs_background": "light"
     },
     "output_type": "display_data"
    },
    {
     "data": {
      "image/png": "[encoded data removed]",
      "text/plain": [
       "<Figure size 432x288 with 1 Axes>"
      ]
     },
     "metadata": {
      "needs_background": "light"
     },
     "output_type": "display_data"
    },
    {
     "data": {
      "image/png": "[encoded data removed]",
      "text/plain": [
       "<Figure size 432x288 with 1 Axes>"
      ]
     },
     "metadata": {
      "needs_background": "light"
     },
     "output_type": "display_data"
    },
    {
     "data": {
      "image/png": "[encoded data removed]",
      "text/plain": [
       "<Figure size 432x288 with 1 Axes>"
      ]
     },
     "metadata": {
      "needs_background": "light"
     },
     "output_type": "display_data"
    },
    {
     "data": {
      "image/png": "[encoded data removed]",
      "text/plain": [
       "<Figure size 432x288 with 1 Axes>"
      ]
     },
     "metadata": {
      "needs_background": "light"
     },
     "output_type": "display_data"
    }
   ],
   "source": [
    "col_remove = meta_cols \n",
    "metrics_result = pd.DataFrame()\n",
    "test_scores = test_data[meta_cols].copy()\n",
    "\n",
    "print(\"Final Test Accuracy: {:.3f} auc {:.3f}\".format(test_acc, test_auc))\n",
    "# RGCN\n",
    "acc, f1, precision, recall, roc_auc, pr_auc, ap, confusion_matrix, _ = get_metrics(\n",
    "    test_logits.numpy(), fraud_labels[test_seeds], out_dir=result_dir, name='RGCN')\n",
    "\n",
    "\n",
    "test_scores['rgcn'] = test_logits.numpy()[:,1]\n",
    "\n",
    "# XGBoost\n",
    "acc, f1, precision, recall, roc_auc, pr_auc, ap, confusion_matrix, pred_xgb, roc_xgg = baseline_models(\n",
    "    train_x=train_data.drop(col_remove, axis=1), test_x=test_data.drop(col_remove, axis=1),\n",
    "    train_idx=train_idx, test_idx=test_idx, labels=labels.cpu().numpy() ,\n",
    "    test_label=fraud_labels, name='XGB')\n",
    "\n",
    "test_scores['xgb'] = pred_xgb\n",
    "\n",
    "# RGCN+XGBoost\n",
    "acc, f1, precision, recall, roc_auc, pr_auc, ap, confusion_matrix, pred_rgcn_xgb, _ = baseline_models(\n",
    "    train_x=train_embedding.cpu().numpy(),\n",
    "    test_x=test_embedding.cpu().numpy(), \n",
    "    train_idx=train_seeds,\n",
    "    test_idx=test_seeds,\n",
    "    labels=labels.cpu().numpy(),\n",
    "    test_label=fraud_labels,\n",
    "    name='RGCN+XGB')\n",
    "\n",
    "test_scores['rgcn_xgb'] = pred_rgcn_xgb\n",
    "\n",
    "# rgcn + iforest\n",
    "acc, f1, precision, recall, roc_auc, pr_auc, ap, confusion_matrix, pred_rgcn_if, roc_rgcniff = unsupervised_models(\n",
    "    train_x=train_embedding.cpu().numpy(), test_x=test_embedding.cpu().numpy(), \n",
    "    train_idx=train_seeds, test_idx=test_seeds,\n",
    "     labels=labels.cpu().numpy(),\n",
    "     test_label=fraud_labels, name='RGCN_iforest')\n",
    "\n",
    "test_scores['rgcn_if'] = pred_rgcn_if\n",
    "\n",
    "#iforest\n",
    "acc, f1, precision, recall, roc_auc, pr_auc, ap, confusion_matrix, iff_scores,_ = unsupervised_models(\n",
    "    train_x=train_data.drop(col_remove, axis=1), test_x=test_data.drop(col_remove, axis=1), \n",
    "    train_idx=train_data.index, test_idx=test_data.reset_index().index,\n",
    "     labels=test_data.fraud_label,\n",
    "     test_label=fraud_labels, name='iforest')\n"
   ]
  },
  {
   "cell_type": "code",
   "execution_count": 153,
   "id": "57655745-8653-4d2c-a231-d291f370b2dc",
   "metadata": {},
   "outputs": [],
   "source": [
    "# save summary statistics\n",
    "#pd.DataFrame(metrics_result).to_csv(os.path.join(result_dir, \"metrics_azure-if_status_flag_V57.csv\"))"
   ]
  },
  {
   "cell_type": "markdown",
   "id": "83bec482",
   "metadata": {},
   "source": [
    "### Result comparison\n",
    "Compare model performance against baseline models."
   ]
  },
  {
   "cell_type": "code",
   "execution_count": 154,
   "id": "725719bf",
   "metadata": {},
   "outputs": [
    {
     "data": {
      "image/png": "[encoded data removed]",
      "text/plain": [
       "<Figure size 432x288 with 1 Axes>"
      ]
     },
     "metadata": {
      "needs_background": "light"
     },
     "output_type": "display_data"
    }
   ],
   "source": [
    "def roc_cr(fpr, tpr,  model_name='Model', color='darkorange'):\n",
    "    \n",
    "    lw = 2\n",
    "    roc_auc = roc_auc_score(fpr, tpr)\n",
    "    fpr, tpr, _ = roc_curve(fpr, tpr)\n",
    "    \n",
    "    plt.plot(fpr, tpr, color=color,\n",
    "             lw=lw, label=model_name+' ROC curve (area = %0.2f)' % roc_auc)\n",
    "    plt.plot([0, 1], [0, 1], color='navy', lw=lw, linestyle='--')\n",
    "    plt.xlim([0.0, 1.0])\n",
    "    plt.ylim([0.0, 1.05])\n",
    "    plt.xlabel('False Positive Rate')\n",
    "    plt.ylabel('True Positive Rate')\n",
    "    #plt.title(model_name +'  ROC curve')\n",
    "    plt.legend(loc=\"lower right\")\n",
    "\n",
    "f = plt.figure()\n",
    "roc_cr(test_scores.fraud_label, test_scores['rgcn'], model_name='RGCN')\n",
    "roc_cr(test_scores.fraud_label, test_scores['rgcn_if'], color='blue', model_name='RGCN_IF')\n",
    "roc_cr(test_scores.fraud_label, iff_scores, color='red', model_name='IF-OHE')\n",
    "roc_cr(test_scores.fraud_label, pred_xgb, color='green', model_name='XGB-OHE')"
   ]
  },
  {
   "cell_type": "code",
   "execution_count": 30,
   "id": "6e63734a-c400-4103-810c-581d7050dd8f",
   "metadata": {},
   "outputs": [
    {
     "data": {
      "text/html": [
       "<div>\n",
       "<style scoped>\n",
       "    .dataframe tbody tr th:only-of-type {\n",
       "        vertical-align: middle;\n",
       "    }\n",
       "\n",
       "    .dataframe tbody tr th {\n",
       "        vertical-align: top;\n",
       "    }\n",
       "\n",
       "    .dataframe thead th {\n",
       "        text-align: right;\n",
       "    }\n",
       "</style>\n",
       "<table border=\"1\" class=\"dataframe\">\n",
       "  <thead>\n",
       "    <tr style=\"text-align: right;\">\n",
       "      <th></th>\n",
       "      <th>day</th>\n",
       "      <th>fraud_label</th>\n",
       "      <th>appId_id</th>\n",
       "      <th>userId_id</th>\n",
       "      <th>ipAddress_id</th>\n",
       "      <th>auth_id</th>\n",
       "      <th>status_flag</th>\n",
       "      <th>rgcn</th>\n",
       "      <th>xgb</th>\n",
       "      <th>rgcn_xgb</th>\n",
       "      <th>rgcn_if</th>\n",
       "    </tr>\n",
       "  </thead>\n",
       "  <tbody>\n",
       "    <tr>\n",
       "      <th>0</th>\n",
       "      <td>58</td>\n",
       "      <td>0</td>\n",
       "      <td>0</td>\n",
       "      <td>0</td>\n",
       "      <td>0</td>\n",
       "      <td>0</td>\n",
       "      <td>0</td>\n",
       "      <td>0.461083</td>\n",
       "      <td>0.000017</td>\n",
       "      <td>0.303696</td>\n",
       "      <td>0.363868</td>\n",
       "    </tr>\n",
       "    <tr>\n",
       "      <th>4</th>\n",
       "      <td>52</td>\n",
       "      <td>0</td>\n",
       "      <td>0</td>\n",
       "      <td>2</td>\n",
       "      <td>4</td>\n",
       "      <td>4</td>\n",
       "      <td>1</td>\n",
       "      <td>0.555658</td>\n",
       "      <td>0.999754</td>\n",
       "      <td>0.966817</td>\n",
       "      <td>0.530296</td>\n",
       "    </tr>\n",
       "    <tr>\n",
       "      <th>10</th>\n",
       "      <td>53</td>\n",
       "      <td>0</td>\n",
       "      <td>0</td>\n",
       "      <td>2</td>\n",
       "      <td>10</td>\n",
       "      <td>10</td>\n",
       "      <td>1</td>\n",
       "      <td>0.554542</td>\n",
       "      <td>0.999754</td>\n",
       "      <td>0.962133</td>\n",
       "      <td>0.530574</td>\n",
       "    </tr>\n",
       "    <tr>\n",
       "      <th>12</th>\n",
       "      <td>54</td>\n",
       "      <td>0</td>\n",
       "      <td>0</td>\n",
       "      <td>2</td>\n",
       "      <td>12</td>\n",
       "      <td>12</td>\n",
       "      <td>1</td>\n",
       "      <td>0.858610</td>\n",
       "      <td>0.999754</td>\n",
       "      <td>0.983580</td>\n",
       "      <td>0.747158</td>\n",
       "    </tr>\n",
       "    <tr>\n",
       "      <th>14</th>\n",
       "      <td>53</td>\n",
       "      <td>0</td>\n",
       "      <td>0</td>\n",
       "      <td>2</td>\n",
       "      <td>14</td>\n",
       "      <td>14</td>\n",
       "      <td>1</td>\n",
       "      <td>0.554503</td>\n",
       "      <td>0.999754</td>\n",
       "      <td>0.970992</td>\n",
       "      <td>0.529860</td>\n",
       "    </tr>\n",
       "  </tbody>\n",
       "</table>\n",
       "</div>"
      ],
      "text/plain": [
       "    day  fraud_label  appId_id  userId_id  ipAddress_id  auth_id  status_flag  \\\n",
       "0    58            0         0          0             0        0            0   \n",
       "4    52            0         0          2             4        4            1   \n",
       "10   53            0         0          2            10       10            1   \n",
       "12   54            0         0          2            12       12            1   \n",
       "14   53            0         0          2            14       14            1   \n",
       "\n",
       "        rgcn       xgb  rgcn_xgb   rgcn_if  \n",
       "0   0.461083  0.000017  0.303696  0.363868  \n",
       "4   0.555658  0.999754  0.966817  0.530296  \n",
       "10  0.554542  0.999754  0.962133  0.530574  \n",
       "12  0.858610  0.999754  0.983580  0.747158  \n",
       "14  0.554503  0.999754  0.970992  0.529860  "
      ]
     },
     "execution_count": 30,
     "metadata": {},
     "output_type": "execute_result"
    }
   ],
   "source": [
    "test_scores.head(5)"
   ]
  },
  {
   "cell_type": "markdown",
   "id": "a998684c-f1f6-49e2-9ef1-6277a38b8863",
   "metadata": {},
   "source": [
    "### Save model for inference"
   ]
  },
  {
   "cell_type": "code",
   "execution_count": 157,
   "id": "b1673f90-563c-456b-ba2f-733a034f8489",
   "metadata": {},
   "outputs": [],
   "source": [
    "# Save model\n",
    "save_model(g, model, \"modeldir/\")"
   ]
  },
  {
   "cell_type": "markdown",
   "id": "4d03b226-b61b-4d9d-a64c-96087633e438",
   "metadata": {},
   "source": [
    "### Result analysis\n",
    "#### Grouping user scores across authentication."
   ]
  },
  {
   "cell_type": "code",
   "execution_count": 123,
   "id": "405c548b-8d0e-47c3-a9e7-0e4dfbab4f12",
   "metadata": {},
   "outputs": [],
   "source": [
    "grouped_users = test_scores.groupby(['userId_id','day']).agg({'rgcn':np.median, 'fraud_label':'max', 'status_flag':'max', 'rgcn_if':np.median\n",
    "                                                          }).reset_index().sort_values(['rgcn_if'], ascending=False)"
   ]
  },
  {
   "cell_type": "code",
   "execution_count": 124,
   "id": "1c107b2c-3164-4c15-bfcf-11a5471bcaac",
   "metadata": {},
   "outputs": [
    {
     "data": {
      "text/html": [
       "<div>\n",
       "<style scoped>\n",
       "    .dataframe tbody tr th:only-of-type {\n",
       "        vertical-align: middle;\n",
       "    }\n",
       "\n",
       "    .dataframe tbody tr th {\n",
       "        vertical-align: top;\n",
       "    }\n",
       "\n",
       "    .dataframe thead th {\n",
       "        text-align: right;\n",
       "    }\n",
       "</style>\n",
       "<table border=\"1\" class=\"dataframe\">\n",
       "  <thead>\n",
       "    <tr style=\"text-align: right;\">\n",
       "      <th></th>\n",
       "      <th>userId_id</th>\n",
       "      <th>day</th>\n",
       "      <th>rgcn</th>\n",
       "      <th>fraud_label</th>\n",
       "      <th>status_flag</th>\n",
       "      <th>rgcn_if</th>\n",
       "    </tr>\n",
       "  </thead>\n",
       "  <tbody>\n",
       "    <tr>\n",
       "      <th>1369</th>\n",
       "      <td>121</td>\n",
       "      <td>51</td>\n",
       "      <td>0.574613</td>\n",
       "      <td>1</td>\n",
       "      <td>1</td>\n",
       "      <td>0.661473</td>\n",
       "    </tr>\n",
       "    <tr>\n",
       "      <th>1319</th>\n",
       "      <td>117</td>\n",
       "      <td>49</td>\n",
       "      <td>0.473802</td>\n",
       "      <td>1</td>\n",
       "      <td>1</td>\n",
       "      <td>0.415689</td>\n",
       "    </tr>\n",
       "    <tr>\n",
       "      <th>1365</th>\n",
       "      <td>121</td>\n",
       "      <td>47</td>\n",
       "      <td>0.476024</td>\n",
       "      <td>1</td>\n",
       "      <td>1</td>\n",
       "      <td>0.402190</td>\n",
       "    </tr>\n",
       "    <tr>\n",
       "      <th>1366</th>\n",
       "      <td>121</td>\n",
       "      <td>48</td>\n",
       "      <td>0.462354</td>\n",
       "      <td>1</td>\n",
       "      <td>1</td>\n",
       "      <td>0.396483</td>\n",
       "    </tr>\n",
       "    <tr>\n",
       "      <th>1321</th>\n",
       "      <td>117</td>\n",
       "      <td>51</td>\n",
       "      <td>0.468351</td>\n",
       "      <td>1</td>\n",
       "      <td>1</td>\n",
       "      <td>0.395271</td>\n",
       "    </tr>\n",
       "    <tr>\n",
       "      <th>1320</th>\n",
       "      <td>117</td>\n",
       "      <td>50</td>\n",
       "      <td>0.466868</td>\n",
       "      <td>1</td>\n",
       "      <td>0</td>\n",
       "      <td>0.392660</td>\n",
       "    </tr>\n",
       "    <tr>\n",
       "      <th>1317</th>\n",
       "      <td>117</td>\n",
       "      <td>47</td>\n",
       "      <td>0.465617</td>\n",
       "      <td>1</td>\n",
       "      <td>0</td>\n",
       "      <td>0.391830</td>\n",
       "    </tr>\n",
       "    <tr>\n",
       "      <th>1367</th>\n",
       "      <td>121</td>\n",
       "      <td>49</td>\n",
       "      <td>0.429801</td>\n",
       "      <td>1</td>\n",
       "      <td>1</td>\n",
       "      <td>0.390257</td>\n",
       "    </tr>\n",
       "    <tr>\n",
       "      <th>1368</th>\n",
       "      <td>121</td>\n",
       "      <td>50</td>\n",
       "      <td>0.428881</td>\n",
       "      <td>1</td>\n",
       "      <td>1</td>\n",
       "      <td>0.385148</td>\n",
       "    </tr>\n",
       "    <tr>\n",
       "      <th>1318</th>\n",
       "      <td>117</td>\n",
       "      <td>48</td>\n",
       "      <td>0.448088</td>\n",
       "      <td>1</td>\n",
       "      <td>1</td>\n",
       "      <td>0.377138</td>\n",
       "    </tr>\n",
       "  </tbody>\n",
       "</table>\n",
       "</div>"
      ],
      "text/plain": [
       "      userId_id  day      rgcn  fraud_label  status_flag   rgcn_if\n",
       "1369        121   51  0.574613            1            1  0.661473\n",
       "1319        117   49  0.473802            1            1  0.415689\n",
       "1365        121   47  0.476024            1            1  0.402190\n",
       "1366        121   48  0.462354            1            1  0.396483\n",
       "1321        117   51  0.468351            1            1  0.395271\n",
       "1320        117   50  0.466868            1            0  0.392660\n",
       "1317        117   47  0.465617            1            0  0.391830\n",
       "1367        121   49  0.429801            1            1  0.390257\n",
       "1368        121   50  0.428881            1            1  0.385148\n",
       "1318        117   48  0.448088            1            1  0.377138"
      ]
     },
     "execution_count": 124,
     "metadata": {},
     "output_type": "execute_result"
    }
   ],
   "source": [
    "grouped_users[grouped_users.fraud_label==1]"
   ]
  },
  {
   "cell_type": "markdown",
   "id": "22cd2eeb-4a5a-483b-9179-ca3627c3baa1",
   "metadata": {},
   "source": [
    "#### Top K=100 number of users per day\n",
    "\n",
    "Generate scores of Top K users per day."
   ]
  },
  {
   "cell_type": "markdown",
   "id": "91cc1e3e-01de-4df0-8c4b-327d7ecabee1",
   "metadata": {
    "tags": []
   },
   "source": [
    "Precision at top $K=20$ for each model with detected $userId$"
   ]
  },
  {
   "cell_type": "code",
   "execution_count": 64,
   "id": "dfb727c7-36cc-4154-bf64-fc995017238e",
   "metadata": {},
   "outputs": [
    {
     "name": "stdout",
     "output_type": "stream",
     "text": [
      "rgcn ([121, 117], 0.1)\n",
      "xgb ([121], 0.05)\n",
      "rgcn_xgb ([121], 0.05)\n",
      "rgcn_if ([121], 0.05)\n"
     ]
    }
   ],
   "source": [
    "model_names = ['rgcn', 'xgb', 'rgcn_xgb', 'rgcn_if']\n",
    "for model_name in model_names:\n",
    "    print(model_name , precision_top_k_day(test_scores, 20, model_name))"
   ]
  },
  {
   "cell_type": "markdown",
   "id": "60d8b291-b81c-40ea-aff3-a598e803dfde",
   "metadata": {},
   "source": [
    "We can also get detected users for each day on top $k$. In this case we are able to see flagged users in day 45, 54-55 & 59"
   ]
  },
  {
   "cell_type": "code",
   "execution_count": 69,
   "id": "a8d8fc62-6c1a-4704-82e9-d7fffea0deda",
   "metadata": {},
   "outputs": [],
   "source": [
    "uprs = []\n",
    "frame_prec = pd.DataFrame()\n",
    "for model_name in model_names:\n",
    "    _, _, _, u_pr = user_precision_top_k(test_scores, 40, model_name)\n",
    "    temp = pd.DataFrame({'day':test_scores.day.unique()})\n",
    "    temp['model_name'] = model_name\n",
    "    temp[['users','prec']] = pd.json_normalize(u_pr.values())\n",
    "    frame_prec = pd.concat([frame_prec, temp])\n",
    "frame_prec_wide = frame_prec.pivot(index='day', columns='model_name', values='users')"
   ]
  },
  {
   "cell_type": "code",
   "execution_count": 73,
   "id": "8888be07-0659-48fc-96d6-2d603b07cc0b",
   "metadata": {},
   "outputs": [
    {
     "data": {
      "text/plain": [
       "day\n",
       "44            []\n",
       "45    [121, 117]\n",
       "46            []\n",
       "47            []\n",
       "48            []\n",
       "49            []\n",
       "50            []\n",
       "51    [121, 117]\n",
       "52            []\n",
       "53            []\n",
       "54    [121, 117]\n",
       "55    [117, 121]\n",
       "56            []\n",
       "57            []\n",
       "58            []\n",
       "59    [117, 121]\n",
       "Name: rgcn, dtype: object"
      ]
     },
     "execution_count": 73,
     "metadata": {},
     "output_type": "execute_result"
    }
   ],
   "source": [
    "# For RGCN\n",
    "frame_prec_wide['rgcn']"
   ]
  },
  {
   "cell_type": "code",
   "execution_count": 77,
   "id": "e8665840-911a-4122-85db-cbaa4d8868c7",
   "metadata": {},
   "outputs": [
    {
     "data": {
      "text/plain": [
       "day\n",
       "44            []\n",
       "45         [121]\n",
       "46            []\n",
       "47            []\n",
       "48            []\n",
       "49            []\n",
       "50            []\n",
       "51    [121, 117]\n",
       "52            []\n",
       "53            []\n",
       "54         [121]\n",
       "55         [117]\n",
       "56            []\n",
       "57            []\n",
       "58            []\n",
       "59         [117]\n",
       "Name: rgcn_if, dtype: object"
      ]
     },
     "execution_count": 77,
     "metadata": {},
     "output_type": "execute_result"
    }
   ],
   "source": [
    "# For RGCN_IF\n",
    "frame_prec_wide['rgcn_if']"
   ]
  },
  {
   "cell_type": "markdown",
   "id": "85324ee7-81c5-4b03-a6e7-6a0c0734b6df",
   "metadata": {},
   "source": [
    "#### Show top 10 ranked users per day for the last 7 days."
   ]
  },
  {
   "cell_type": "code",
   "execution_count": 78,
   "id": "b285d0bc-855f-49d0-b25f-ad1d6c6ef3f2",
   "metadata": {},
   "outputs": [],
   "source": [
    "top_100_users = pd.DataFrame()\n",
    "for day in test_scores.day.unique():\n",
    "    top_100_users = pd.concat([top_100_users,\n",
    "                               test_scores[test_scores.day==day].\n",
    "                               sort_values(['rgcn'], ascending=False).head(100)\n",
    "                              ])"
   ]
  },
  {
   "cell_type": "markdown",
   "id": "8f35fe18-9e22-4627-b61a-6fedbe5ca8c9",
   "metadata": {},
   "source": [
    "Get list of users & application Id for a given day. "
   ]
  },
  {
   "cell_type": "code",
   "execution_count": 79,
   "id": "ecddd010-c88b-4e83-8e81-20996f493a55",
   "metadata": {},
   "outputs": [
    {
     "data": {
      "text/html": [
       "<div>\n",
       "<style scoped>\n",
       "    .dataframe tbody tr th:only-of-type {\n",
       "        vertical-align: middle;\n",
       "    }\n",
       "\n",
       "    .dataframe tbody tr th {\n",
       "        vertical-align: top;\n",
       "    }\n",
       "\n",
       "    .dataframe thead th {\n",
       "        text-align: right;\n",
       "    }\n",
       "</style>\n",
       "<table border=\"1\" class=\"dataframe\">\n",
       "  <thead>\n",
       "    <tr style=\"text-align: right;\">\n",
       "      <th></th>\n",
       "      <th>userId_id</th>\n",
       "      <th>appId_id</th>\n",
       "      <th>fraud_label</th>\n",
       "      <th>status_flag</th>\n",
       "      <th>rgcn</th>\n",
       "      <th>rgcn_if</th>\n",
       "    </tr>\n",
       "  </thead>\n",
       "  <tbody>\n",
       "    <tr>\n",
       "      <th>12306</th>\n",
       "      <td>121</td>\n",
       "      <td>35</td>\n",
       "      <td>1</td>\n",
       "      <td>1</td>\n",
       "      <td>0.914227</td>\n",
       "      <td>0.753835</td>\n",
       "    </tr>\n",
       "    <tr>\n",
       "      <th>2136</th>\n",
       "      <td>121</td>\n",
       "      <td>0</td>\n",
       "      <td>1</td>\n",
       "      <td>1</td>\n",
       "      <td>0.913817</td>\n",
       "      <td>0.753835</td>\n",
       "    </tr>\n",
       "    <tr>\n",
       "      <th>53068</th>\n",
       "      <td>117</td>\n",
       "      <td>242</td>\n",
       "      <td>1</td>\n",
       "      <td>1</td>\n",
       "      <td>0.838932</td>\n",
       "      <td>0.734581</td>\n",
       "    </tr>\n",
       "    <tr>\n",
       "      <th>5404</th>\n",
       "      <td>117</td>\n",
       "      <td>1</td>\n",
       "      <td>1</td>\n",
       "      <td>0</td>\n",
       "      <td>0.814508</td>\n",
       "      <td>0.721394</td>\n",
       "    </tr>\n",
       "    <tr>\n",
       "      <th>53887</th>\n",
       "      <td>37</td>\n",
       "      <td>250</td>\n",
       "      <td>0</td>\n",
       "      <td>0</td>\n",
       "      <td>0.653989</td>\n",
       "      <td>0.656558</td>\n",
       "    </tr>\n",
       "    <tr>\n",
       "      <th>53303</th>\n",
       "      <td>34</td>\n",
       "      <td>243</td>\n",
       "      <td>0</td>\n",
       "      <td>0</td>\n",
       "      <td>0.608578</td>\n",
       "      <td>0.647067</td>\n",
       "    </tr>\n",
       "    <tr>\n",
       "      <th>14066</th>\n",
       "      <td>187</td>\n",
       "      <td>46</td>\n",
       "      <td>0</td>\n",
       "      <td>1</td>\n",
       "      <td>0.601002</td>\n",
       "      <td>0.543524</td>\n",
       "    </tr>\n",
       "    <tr>\n",
       "      <th>12294</th>\n",
       "      <td>121</td>\n",
       "      <td>35</td>\n",
       "      <td>1</td>\n",
       "      <td>1</td>\n",
       "      <td>0.594150</td>\n",
       "      <td>0.554208</td>\n",
       "    </tr>\n",
       "    <tr>\n",
       "      <th>2132</th>\n",
       "      <td>121</td>\n",
       "      <td>0</td>\n",
       "      <td>1</td>\n",
       "      <td>1</td>\n",
       "      <td>0.592892</td>\n",
       "      <td>0.541692</td>\n",
       "    </tr>\n",
       "    <tr>\n",
       "      <th>48864</th>\n",
       "      <td>34</td>\n",
       "      <td>191</td>\n",
       "      <td>0</td>\n",
       "      <td>0</td>\n",
       "      <td>0.590367</td>\n",
       "      <td>0.626796</td>\n",
       "    </tr>\n",
       "  </tbody>\n",
       "</table>\n",
       "</div>"
      ],
      "text/plain": [
       "       userId_id  appId_id  fraud_label  status_flag      rgcn   rgcn_if\n",
       "12306        121        35            1            1  0.914227  0.753835\n",
       "2136         121         0            1            1  0.913817  0.753835\n",
       "53068        117       242            1            1  0.838932  0.734581\n",
       "5404         117         1            1            0  0.814508  0.721394\n",
       "53887         37       250            0            0  0.653989  0.656558\n",
       "53303         34       243            0            0  0.608578  0.647067\n",
       "14066        187        46            0            1  0.601002  0.543524\n",
       "12294        121        35            1            1  0.594150  0.554208\n",
       "2132         121         0            1            1  0.592892  0.541692\n",
       "48864         34       191            0            0  0.590367  0.626796"
      ]
     },
     "execution_count": 79,
     "metadata": {},
     "output_type": "execute_result"
    }
   ],
   "source": [
    "day = 48\n",
    "top_users_last_day = test_scores[test_scores.day==day].sort_values(['rgcn'], ascending=False)[[\n",
    "    'userId_id','appId_id','fraud_label', 'status_flag','rgcn', 'rgcn_if'\n",
    "]]\n",
    "top_users_last_day.head(10)"
   ]
  },
  {
   "cell_type": "markdown",
   "id": "67c6c402",
   "metadata": {},
   "source": [
    "### Conclusion"
   ]
  },
  {
   "cell_type": "markdown",
   "id": "5cafe0fb",
   "metadata": {},
   "source": [
    "In this workflow we showed end-to-end worklfow for malicious azure detection using RGCN.\n",
    "we explore methods of heterogeneous graph embedding for malicious sign-on detection of azure logs. This work adds two main contributions. First, adapting log authentication as GNN, allows us to learn a richer embedding of authentication on both structural and individual entities involved without much hand-crafted feature learning. Second, by modeling every “authentication” as a target node, the model avoids the challenge of depending on modeling temporal historical user login information. The experimental result shows, R-GCN prediction scores on authentication nodes have a promising result on overall detection performance and are better than the baseline isolation forest & XGBoost algorithm applied to the learned embedding vector of authentication nodes.\n"
   ]
  },
  {
   "cell_type": "markdown",
   "id": "9eb226b8",
   "metadata": {},
   "source": [
    "### Reference\n",
    "1. https://docs.microsoft.com/en-us/azure/active-directory/reports-monitoring/concept-sign-ins\n",
    "2. Liu, Ziqi, et al. “Heterogeneous Graph Neural Networks for Malicious Account Detection.” arXiv [cs.LG], 27 Feb. 2020, https://doi.org/10.1145/3269206.3272010. arXiv.\n",
    "3. Lv, Mingqi, et al. “A Heterogeneous Graph Learning Model for Cyber-Attack Detection.” arXiv [cs.CR], 16 Dec. 2021, http://arxiv.org/abs/2112.08986. arXiv.\n",
    "4. Schlichtkrull, Michael, et al. \"Modeling relational data with graph convolutional networks.\" European semantic web conference. Springer, Cham, 2018\n",
    "5. Rao, Susie Xi, et al. \"xFraud: explainable fraud transaction detection.\" Proceedings of the VLDB Endowment 3 (2021)\n",
    "6. Powell, Brian A. \"Detecting malicious logins as graph anomalies.\" Journal of Information Security and Applications 54 (2020): 102557"
   ]
  },
  {
   "cell_type": "markdown",
   "id": "821efdd3",
   "metadata": {},
   "source": []
  }
 ],
 "metadata": {
  "kernelspec": {
   "display_name": "Python 3 (ipykernel)",
   "language": "python",
   "name": "python3"
  },
  "language_info": {
   "codemirror_mode": {
    "name": "ipython",
    "version": 3
   },
   "file_extension": ".py",
   "mimetype": "text/x-python",
   "name": "python",
   "nbconvert_exporter": "python",
   "pygments_lexer": "ipython3",
   "version": "3.8.10"
  },
  "vscode": {
   "interpreter": {
    "hash": "f708a36acfaef0acf74ccd43dfb58100269bf08fb79032a1e0a6f35bd9856f51"
   }
  }
 },
 "nbformat": 4,
 "nbformat_minor": 5
}
